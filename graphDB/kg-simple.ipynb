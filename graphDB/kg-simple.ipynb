{
 "cells": [
  {
   "cell_type": "code",
   "execution_count": 44,
   "id": "272ca1cd-b76f-4695-bfc5-387893b2cea3",
   "metadata": {},
   "outputs": [
    {
     "data": {
      "text/plain": [
       "True"
      ]
     },
     "execution_count": 44,
     "metadata": {},
     "output_type": "execute_result"
    }
   ],
   "source": [
    "from dotenv import load_dotenv\n",
    "import os\n",
    "from neo4j import GraphDatabase\n",
    "\n",
    "load_dotenv()"
   ]
  },
  {
   "cell_type": "markdown",
   "id": "16334211-f21d-4188-929d-8e029a473216",
   "metadata": {},
   "source": [
    "## Load important keys"
   ]
  },
  {
   "cell_type": "code",
   "execution_count": 47,
   "id": "7d13b447-5305-439c-80ea-7eab4278561e",
   "metadata": {},
   "outputs": [],
   "source": [
    "AURA_INSTANCENAME = os.environ[\"AURA_INSTANCENAME\"]\n",
    "NEO4J_URI = os.environ[\"NEO4J_URI\"]\n",
    "NEO4J_USERNAME = os.environ[\"NEO4J_USERNAME\"]\n",
    "NEO4J_PASSWORD = os.environ[\"NEO4J_PASSWORD\"]\n",
    "NEO4J_DATABASE = os.environ[\"NEO4J_DATABASE\"]\n",
    "AUTH = (NEO4J_USERNAME, NEO4J_PASSWORD)"
   ]
  },
  {
   "cell_type": "code",
   "execution_count": 49,
   "id": "ba96cca5-a953-4676-9953-3746e6f6f26f",
   "metadata": {},
   "outputs": [],
   "source": [
    "driver = GraphDatabase.driver(NEO4J_URI, auth=AUTH, database=NEO4J_DATABASE)\n"
   ]
  },
  {
   "cell_type": "code",
   "execution_count": 51,
   "id": "33c0bb88-5a3e-4c32-b4ed-f70bd4bf60eb",
   "metadata": {},
   "outputs": [],
   "source": [
    "## Just to test whether connection with database is successful or not\n",
    "def connect_and_query():\n",
    "    try:\n",
    "        with driver.session(database=NEO4J_DATABASE) as session:\n",
    "            result = session.run(\"MATCH (n) RETURN count(n)\")\n",
    "            count = result.single().value()\n",
    "            print(f\"number of nodes: {count}\")\n",
    "    except Exception as e:\n",
    "            print(f\"Error : {e}\")\n",
    "    #finally:\n",
    "            #driver.close()"
   ]
  },
  {
   "cell_type": "code",
   "execution_count": 53,
   "id": "3cdcc2b6-a40f-4571-86f2-046fe39a07ac",
   "metadata": {},
   "outputs": [
    {
     "name": "stdout",
     "output_type": "stream",
     "text": [
      "number of nodes: 5\n"
     ]
    }
   ],
   "source": [
    "connect_and_query()"
   ]
  },
  {
   "cell_type": "code",
   "execution_count": 55,
   "id": "3981cf62-dfaa-4150-aa21-c6347746a7a3",
   "metadata": {},
   "outputs": [],
   "source": [
    "def createEntities(tx):\n",
    "        # Create Albert Einstein node\n",
    "    tx.run(\"MERGE (a:Person {name: 'Albert Einstein'})\")\n",
    "\n",
    "    # Create other nodes\n",
    "    tx.run(\"MERGE (p:Subject {name: 'Physics'})\")\n",
    "    tx.run(\"MERGE (n:NobelPrize {name: 'Nobel Prize in Physics'})\")\n",
    "    tx.run(\"MERGE (g:Country {name: 'Germany'})\")\n",
    "    tx.run(\"MERGE (u:Country {name: 'USA'})\")\n",
    "\n",
    "    "
   ]
  },
  {
   "cell_type": "code",
   "execution_count": 57,
   "id": "0c10a5ed-0c65-41af-94ac-c464115c83db",
   "metadata": {},
   "outputs": [],
   "source": [
    "def createRelationships(tx):\n",
    "        # Create studied relationship\n",
    "    tx.run(\n",
    "        \"\"\"\n",
    "    MATCH (a:Person {name: 'Albert Einstein'}), (p:Subject {name: 'Physics'})\n",
    "    MERGE (a)-[:STUDIED]->(p)\n",
    "    \"\"\"\n",
    "    )\n",
    "\n",
    "    # Create won relationship\n",
    "    tx.run(\n",
    "        \"\"\"\n",
    "    MATCH (a:Person {name: 'Albert Einstein'}), (n:NobelPrize {name: 'Nobel Prize in Physics'})\n",
    "    MERGE (a)-[:WON]->(n)\n",
    "    \"\"\"\n",
    "    )\n",
    "\n",
    "    # Create born in relationship\n",
    "    tx.run(\n",
    "        \"\"\"\n",
    "    MATCH (a:Person {name: 'Albert Einstein'}), (g:Country {name: 'Germany'})\n",
    "    MERGE (a)-[:BORN_IN]->(g)\n",
    "    \"\"\"\n",
    "    )\n",
    "\n",
    "    # Create died in relationship\n",
    "    tx.run(\n",
    "        \"\"\"\n",
    "    MATCH (a:Person {name: 'Albert Einstein'}), (u:Country {name: 'USA'})\n",
    "    MERGE (a)-[:DIED_IN]->(u)\n",
    "    \"\"\"\n",
    "    )"
   ]
  },
  {
   "cell_type": "code",
   "execution_count": 59,
   "id": "99c485d0-1b24-42cf-9d3c-7f0f8a77f6b9",
   "metadata": {},
   "outputs": [],
   "source": [
    "def build_knowledge_graph():\n",
    "    # Open a session with the Neo4j database\n",
    "\n",
    "    try:\n",
    "        with driver.session(database=NEO4J_DATABASE) as session:\n",
    "            # Create entities\n",
    "            session.execute_write(createEntities)\n",
    "            # Create relationships\n",
    "            session.execute_write(createRelationships)\n",
    "\n",
    "    except Exception as e:\n",
    "        print(f\"Error: {e}\")\n",
    "    finally:\n",
    "        driver.close()"
   ]
  },
  {
   "cell_type": "code",
   "execution_count": 61,
   "id": "cd531962-0fc2-443f-9add-c27db01038a9",
   "metadata": {},
   "outputs": [],
   "source": [
    "build_knowledge_graph()"
   ]
  },
  {
   "cell_type": "code",
   "execution_count": 63,
   "id": "e4dfcf52-52e9-4a2a-8ac2-81b3b4f9b517",
   "metadata": {},
   "outputs": [],
   "source": [
    "def query_graph(cypher_query):\n",
    "    driver = GraphDatabase.driver(NEO4J_URI, auth=AUTH)\n",
    "    try:\n",
    "        with driver.session(database=NEO4J_DATABASE) as session:\n",
    "            result = session.run(cypher_query)\n",
    "            for record in result:\n",
    "                #print(record[\"name\"])\n",
    "                print(record[\"path\"])\n",
    "    except Exception as e:\n",
    "        print(f\"Error: {e}\")\n",
    "    finally:\n",
    "        driver.close()"
   ]
  },
  {
   "cell_type": "code",
   "execution_count": 69,
   "id": "624482e4-7a3d-483e-bfae-fa1d1db958b1",
   "metadata": {},
   "outputs": [],
   "source": [
    "einstein_query = \"\"\"\n",
    "MATCH path=(a:Person {name: 'Albert Einstein'})-[:STUDIED]->(s:Subject)\n",
    "RETURN path\n",
    "UNION\n",
    "MATCH path=(a:Person {name: 'Albert Einstein'})-[:WON]->(n:NobelPrize)\n",
    "RETURN path\n",
    "UNION\n",
    "MATCH path=(a:Person {name: 'Albert Einstein'})-[:BORN_IN]->(g:Country)\n",
    "RETURN path\n",
    "UNION\n",
    "MATCH path=(a:Person {name: 'Albert Einstein'})-[:DIED_IN]->(u:Country)\n",
    "RETURN path\n",
    "\"\"\"\n",
    "\n",
    "\n",
    "# Simple Cypher query to find all node names\n",
    "simple_query = \"\"\"\n",
    "MATCH (n)\n",
    "RETURN n.name AS name\n",
    "\"\"\""
   ]
  },
  {
   "cell_type": "code",
   "execution_count": 71,
   "id": "22225576-0d3d-4202-9d8e-077ccbeb6fe3",
   "metadata": {},
   "outputs": [
    {
     "name": "stdout",
     "output_type": "stream",
     "text": [
      "<Path start=<Node element_id='4:9b2d7c87-c240-4a14-b823-66c4c1fc673b:5' labels=frozenset({'Person'}) properties={'name': 'Albert Einstein'}> end=<Node element_id='4:9b2d7c87-c240-4a14-b823-66c4c1fc673b:4' labels=frozenset({'Subject'}) properties={'name': 'Physics'}> size=1>\n",
      "<Path start=<Node element_id='4:9b2d7c87-c240-4a14-b823-66c4c1fc673b:5' labels=frozenset({'Person'}) properties={'name': 'Albert Einstein'}> end=<Node element_id='4:9b2d7c87-c240-4a14-b823-66c4c1fc673b:6' labels=frozenset({'NobelPrize'}) properties={'name': 'Nobel Prize in Physics'}> size=1>\n",
      "<Path start=<Node element_id='4:9b2d7c87-c240-4a14-b823-66c4c1fc673b:5' labels=frozenset({'Person'}) properties={'name': 'Albert Einstein'}> end=<Node element_id='4:9b2d7c87-c240-4a14-b823-66c4c1fc673b:2' labels=frozenset({'Country'}) properties={'name': 'Germany'}> size=1>\n",
      "<Path start=<Node element_id='4:9b2d7c87-c240-4a14-b823-66c4c1fc673b:5' labels=frozenset({'Person'}) properties={'name': 'Albert Einstein'}> end=<Node element_id='4:9b2d7c87-c240-4a14-b823-66c4c1fc673b:3' labels=frozenset({'Country'}) properties={'name': 'USA'}> size=1>\n"
     ]
    }
   ],
   "source": [
    "query_graph(einstein_query)"
   ]
  },
  {
   "cell_type": "code",
   "execution_count": null,
   "id": "1d848ede-33dc-461e-b9fc-2f6569aa489e",
   "metadata": {},
   "outputs": [],
   "source": []
  }
 ],
 "metadata": {
  "kernelspec": {
   "display_name": "poetry-env-graphdb",
   "language": "python",
   "name": "poetry-env-graphdb"
  },
  "language_info": {
   "codemirror_mode": {
    "name": "ipython",
    "version": 3
   },
   "file_extension": ".py",
   "mimetype": "text/x-python",
   "name": "python",
   "nbconvert_exporter": "python",
   "pygments_lexer": "ipython3",
   "version": "3.13.0"
  }
 },
 "nbformat": 4,
 "nbformat_minor": 5
}
