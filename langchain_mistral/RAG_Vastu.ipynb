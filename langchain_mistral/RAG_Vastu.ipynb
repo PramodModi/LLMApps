{
 "cells": [
  {
   "cell_type": "code",
   "execution_count": 4,
   "id": "15c0aa56-8d09-4ad7-8b66-7b3f32c317ae",
   "metadata": {},
   "outputs": [],
   "source": [
    "import os\n",
    "from dotenv import load_dotenv, find_dotenv\n",
    "_ = load_dotenv(find_dotenv())\n",
    "mistral_api_key = os.environ[\"MISTRAL_API_KEY\"]"
   ]
  },
  {
   "cell_type": "code",
   "execution_count": 5,
   "id": "0f508a6a-356a-41e8-8673-1bc7234662fb",
   "metadata": {},
   "outputs": [],
   "source": [
    "from langchain_mistralai import ChatMistralAI\n",
    "\n",
    "chatModel = ChatMistralAI(\n",
    "    mistral_api_key=mistral_api_key,\n",
    "    model=\"mistral-large-latest\",\n",
    "    temperature=0.7,\n",
    "    max_retries=2,\n",
    "    # other params...\n",
    ")"
   ]
  },
  {
   "cell_type": "code",
   "execution_count": 6,
   "id": "4d5ab885-656f-4f82-8bec-cc8d76c90824",
   "metadata": {},
   "outputs": [
    {
     "name": "stderr",
     "output_type": "stream",
     "text": [
      "USER_AGENT environment variable not set, consider setting it to identify your requests.\n"
     ]
    }
   ],
   "source": [
    "import bs4\n",
    "from langchain import hub\n",
    "from langchain_chroma import Chroma\n",
    "from langchain_community.document_loaders import WebBaseLoader\n",
    "from langchain_core.output_parsers import StrOutputParser\n",
    "from langchain_core.runnables import RunnablePassthrough\n",
    "from langchain_text_splitters import RecursiveCharacterTextSplitter\n",
    "from langchain_huggingface import HuggingFaceEmbeddings"
   ]
  },
  {
   "cell_type": "code",
   "execution_count": 7,
   "id": "0fa487f0-a230-40cf-8ee9-e99d6f39b4ff",
   "metadata": {},
   "outputs": [],
   "source": [
    "loader = WebBaseLoader(\n",
    "    web_paths=(\"https://vaastuvidwan.com/how-to-use-pyramid-for-vastu-correction/\",\n",
    "              \"https://www.houseofhiranandani.com/vlogs/all-you-need-to-know-about-vastu-before-buying-a-new-home/\",\n",
    "              \"https://www.niranjanbabu.com/vastu-for-homes.html\", \n",
    "              \"https://www.fortiusinfra.com/buying-a-vastu-compliant-apartment-in-bangalore/\",),\n",
    "    bs_kwargs=dict(\n",
    "        parse_only=bs4.SoupStrainer(\n",
    "            class_=(\"elementor elementor-3113 elementor-location-single post-3025 post type-post status-publish format-standard has-post-thumbnail hentry category-uncategorized tag-pyramid-vastu\",\n",
    "                   \"entry-content\", \"container\", \"inner-content\", )\n",
    "        )\n",
    "    ),\n",
    ")"
   ]
  },
  {
   "cell_type": "code",
   "execution_count": 8,
   "id": "fbaceffa-bd59-4858-8b17-dbb4df6cea88",
   "metadata": {},
   "outputs": [],
   "source": [
    "docs = loader.load()"
   ]
  },
  {
   "cell_type": "code",
   "execution_count": 9,
   "id": "73a90122-8647-4d0e-acf3-7199a94b9b10",
   "metadata": {},
   "outputs": [],
   "source": [
    "text_splitter = RecursiveCharacterTextSplitter(chunk_size=1000, chunk_overlap=500)"
   ]
  },
  {
   "cell_type": "code",
   "execution_count": 10,
   "id": "d9b0a9c4-95ee-4736-9a76-b48cb90c1a5c",
   "metadata": {},
   "outputs": [],
   "source": [
    "splits = text_splitter.split_documents(docs)"
   ]
  },
  {
   "cell_type": "code",
   "execution_count": 11,
   "id": "5b3e5096-3c9d-45b0-8fff-82ad577c3b4c",
   "metadata": {},
   "outputs": [
    {
     "name": "stderr",
     "output_type": "stream",
     "text": [
      "/Users/pramodmodi/Library/Caches/pypoetry/virtualenvs/langchain-mistral-xuCIEomg-py3.11/lib/python3.11/site-packages/sentence_transformers/cross_encoder/CrossEncoder.py:13: TqdmWarning: IProgress not found. Please update jupyter and ipywidgets. See https://ipywidgets.readthedocs.io/en/stable/user_install.html\n",
      "  from tqdm.autonotebook import tqdm, trange\n"
     ]
    }
   ],
   "source": [
    "vectorstore = Chroma.from_documents(documents=splits, embedding=HuggingFaceEmbeddings(model_name=\"all-MiniLM-L6-v2\"))"
   ]
  },
  {
   "cell_type": "markdown",
   "id": "578883d4-f2e2-4716-bfbf-b361dada2492",
   "metadata": {},
   "source": [
    "## Add pdf data"
   ]
  },
  {
   "cell_type": "code",
   "execution_count": 27,
   "id": "6c8d793b-3a1e-4191-817b-039abb9b730b",
   "metadata": {},
   "outputs": [
    {
     "data": {
      "text/plain": [
       "['a67c606d-7603-44ac-b0e6-93c4e6e2c5ea',\n",
       " 'fa7791c8-022d-4d11-b138-2f2240a803ad',\n",
       " 'ae35bb29-6488-469d-8d59-0d5c6eee81d9',\n",
       " '17c3bcf0-58eb-437c-bcd8-f660274cbed7',\n",
       " '312f8e45-5107-4c02-8020-15bb809c47b9',\n",
       " 'cf5db536-5d0c-497d-a750-5714ba612095',\n",
       " 'a265c823-bbbc-4ffe-a4f8-ac387516ed3c',\n",
       " '6bf24862-ce3c-456b-8407-31d90a7e3863',\n",
       " 'cc156bcc-bed0-40b2-95b3-561bc50eab18',\n",
       " 'a495292d-ba24-4bf4-952b-b2a130483ff7',\n",
       " '89671f2e-b924-4776-870a-38b5241bffaf',\n",
       " '1e8a92d4-0bca-40f4-a987-9935f6c55feb',\n",
       " '14f0a254-b761-4a93-a08d-0407a4f91102',\n",
       " '8b852ac2-6b45-4020-82d8-054e0b372306',\n",
       " '516ac35d-50f6-4be1-8aa5-1b098e322d85',\n",
       " '32dd6d8c-74e1-466b-b215-b77549458277',\n",
       " 'e57e4d0c-d61d-4b70-8af9-9775886f522f',\n",
       " '9f3c4254-869a-4509-aac9-39855528e13c',\n",
       " 'b0037f54-6835-4ac4-be99-aa17495689f4',\n",
       " '55194646-edb9-4046-80d0-a31867f8e1af',\n",
       " '28760341-d25b-4bd4-b669-c9895ecc56c1',\n",
       " 'c4f7a4ec-627b-46a2-80ab-d3f4da3e7d7b',\n",
       " 'd4c5b825-c2a0-49c4-9cc0-9c345f663cf5',\n",
       " 'bd182735-0e5d-44c1-829b-90531b7eac09',\n",
       " '33596b6d-b12d-4900-8379-ae42b4154e8a',\n",
       " 'e460f475-df8b-4c47-bad1-704e0e3daa13',\n",
       " '0e969b04-0220-4a71-b9c2-0b41c414ff5c',\n",
       " 'a524a672-9441-49e0-afd5-d37e498e9633',\n",
       " 'cd98f888-46bc-49b1-9eb5-ce94629bf78d',\n",
       " 'a9cbc254-5c0f-45b2-875b-c6bf65fa3736']"
      ]
     },
     "execution_count": 27,
     "metadata": {},
     "output_type": "execute_result"
    }
   ],
   "source": [
    "from langchain_community.document_loaders import PyPDFLoader\n",
    "\n",
    "pdf_loader = PyPDFLoader('./data/vastu-for-house.pdf')\n",
    "\n",
    "pdf_loaded_data = pdf_loader.load_and_split()\n",
    "vectorstore.add_documents(documents=pdf_loaded_data)"
   ]
  },
  {
   "cell_type": "code",
   "execution_count": 28,
   "id": "139ab6c6-910c-49b6-bbfe-b74c44eb6e58",
   "metadata": {},
   "outputs": [
    {
     "data": {
      "text/plain": [
       "['aba08a4e-fcd0-42f0-af15-d34d03c5509a',\n",
       " '3736705d-f05f-4d38-831f-e816b2ac0bec',\n",
       " '38715388-90fb-4668-bc9d-60c2bd12ff61',\n",
       " '842ac85e-6afc-4ef5-b614-b69dd827f9bc',\n",
       " '03798a54-a8e6-465b-91cc-60d76f3f7405',\n",
       " '53b6ed95-eccc-4b77-b326-5faa682f9c38',\n",
       " '421925ff-1f78-483d-ae21-5f1b639002ea',\n",
       " 'f8ea80c5-e7a1-4b82-a65e-c23dc5313fb0',\n",
       " '6f12e698-c2a3-4bbf-a57e-b39776d3899f',\n",
       " '18db5e06-31dc-48c2-9942-6b6ab313b28d',\n",
       " '532940d5-5487-4922-8ea9-cf91f688fb7e',\n",
       " '949d8a85-f68e-4719-90fd-a4767a9028f4',\n",
       " 'c0d6be5e-a2d0-45a6-95b9-6a18383cc348',\n",
       " 'eec43fc5-5d03-484d-b871-158defb1e803',\n",
       " '600f1fa2-6613-4f68-8356-3a156b426cd2',\n",
       " 'ac00b25a-d704-4f26-96bf-d98fdbd88483',\n",
       " 'b52fcae3-dcec-47e5-868a-031ede32f606',\n",
       " 'fa11db96-34a4-4aa4-a531-6b46c8dc38fb',\n",
       " 'bc3e97c0-90b6-4f73-bac4-a850c77c8bd2',\n",
       " '6469382c-50b6-43c0-9159-d437e3d4cea7',\n",
       " 'fb0c1067-087a-4c08-b1c2-b9e8de83734f',\n",
       " '91b89529-8d74-47d8-9783-fe48bb3719dc',\n",
       " 'e96f4637-6e06-4361-b3c6-91645eaa03f1',\n",
       " 'e7ff8aa5-a301-48a8-b916-12c0836644dc',\n",
       " '453e50e7-7986-44c3-a65b-b7f89414b8ef',\n",
       " 'd16efdc3-d2ac-48c1-9d63-debf018b34c4',\n",
       " '4045da7c-fc8e-442b-8070-c0aaa612eff9',\n",
       " '00654420-23e3-4cb7-b6dd-87c62557847e',\n",
       " '1c2da319-f796-4f96-bc92-264bb4cd2a33',\n",
       " '0bd8255d-c9ee-4524-83ac-6c6d722352cd',\n",
       " '1d9e8b1a-27a7-4a05-8d33-8db887f352fa',\n",
       " '2230261b-57e2-430a-bf7e-137fe32529dd',\n",
       " 'b5d30602-ab41-493e-9ee8-201d6ec6bfc4',\n",
       " 'ab29d535-a845-4a3c-acf4-195b2a54357a',\n",
       " 'dd110e41-1a7d-4953-aeac-41f2db317a4e',\n",
       " 'faea91b2-9dbd-4850-ac71-8641f91cc440',\n",
       " '531bf2dc-7d42-4874-a6e2-fd7705c1e656',\n",
       " '2dd1ec34-9613-4f13-a047-9379ac16af03',\n",
       " '007871a6-873e-4e16-b125-f8572da70f23',\n",
       " '54a3871f-533e-4f95-8fb9-91a2c84b9b51',\n",
       " '3c88027c-6eea-4f8a-bb11-141dff62693a',\n",
       " '45fa247c-10e3-4e00-8c09-18c0d4f50bb5',\n",
       " 'f2ba01a4-aa73-4db6-b620-d624e10c9523',\n",
       " '3986fc7b-a18d-434b-88bf-bdced88fec64',\n",
       " 'e7c57a6f-9063-403e-ae60-28de27e4e94f',\n",
       " '59a0fb5d-8b41-4003-aeee-483b8b0dced0',\n",
       " '74afcf0b-8802-4461-9f00-c41c55792d79',\n",
       " '49361174-99b2-47e1-93a8-b40a0d46ca93',\n",
       " '8418ce9f-557f-4947-b4b3-38900f8b740e',\n",
       " 'd029b301-9da4-44ac-8b02-491ec6d16884',\n",
       " 'd789a0ff-a6ce-4853-a8f6-02e2b65099db',\n",
       " '53e4f203-faef-4eef-a700-45e24d9ac7a2',\n",
       " '769e07e0-20dc-4414-b59d-a61b6a608ecc',\n",
       " 'c07098db-49ed-4c10-ba16-d668b9da5640',\n",
       " '36e19eeb-a409-44a3-a8ce-f9d3b529b8ef',\n",
       " 'c46daff3-9964-432c-b92c-f58b1d43b9d9',\n",
       " '0a1cc888-67d6-427c-b941-d25a51d00e0d',\n",
       " 'b7792d79-aa29-4cb4-a946-34ec4d38e74b',\n",
       " '091410f8-8973-4a45-a144-79e8c8a798b1',\n",
       " '2a85c598-4a4c-4c7d-b482-e61631fd1f98',\n",
       " '198f4ec8-5a09-4c29-ac47-d4bb165d201a',\n",
       " '3c6b8f84-cdd9-44e8-a89e-a02184f53802',\n",
       " '412658cd-bbb2-4ce2-ad4a-6ee533c16138',\n",
       " '0d7330fc-edb4-47b3-9d8a-7e0975bf6e47',\n",
       " '4756f0be-5356-446e-b467-7517b6a17072',\n",
       " '2efaa76a-3ca6-41d7-9fae-66ce87a2722e',\n",
       " '326d979a-316c-4521-9fd9-a58d010621be',\n",
       " '3775a9e3-66a1-4535-be99-86ac95541d54',\n",
       " 'b361d121-d601-4a68-a3c7-7c289672e3b0',\n",
       " '48180eb6-69f0-43f8-9dd2-5d3947791226',\n",
       " '05525d87-8cac-45ef-a37e-c78160fee8fa',\n",
       " '235cc7ea-34d9-48ec-9a0c-58ab65b3feb2',\n",
       " 'ea7c3154-7c3f-4528-9e5d-1b3dd40c3715',\n",
       " '6b8de9ba-1984-459e-afa0-dcb827f78269',\n",
       " '628be26e-522f-47eb-aa8f-0a28c6bf596e',\n",
       " '2918ddff-1464-4d3f-ba7e-92057bfc5274',\n",
       " '27ff7e15-77eb-468f-a1f0-bd7390094608',\n",
       " '012259d9-1ac1-4e84-a9ef-aa61a1f1ffdd',\n",
       " '3c9e4b67-96a5-4287-b5d2-7062d47936de',\n",
       " 'd5479b60-fbdd-4dea-831c-9d955d04b026',\n",
       " '2888b013-31a4-494e-bdf4-9c34830284cf',\n",
       " '0a2b9d0b-7777-4a4c-bf02-025789a8f6e3',\n",
       " 'a86231c1-8802-43f6-b676-9b7bf3a19ec5',\n",
       " '791080cb-f66b-4780-b41a-b775397d12ce',\n",
       " '76fa4c26-4c0a-49ff-b01b-de4a7ec3a064',\n",
       " '5a08a747-62b6-4767-a456-9dfc70cb9b0d',\n",
       " '922622ec-5c92-493d-81fd-2aa9005e9ef3',\n",
       " 'db8c1e0e-2cce-4298-8493-c2d98acbb5a4',\n",
       " 'c7693fc2-e31e-4ded-909c-eefcad33cc0f',\n",
       " 'eca60349-9966-4236-98f5-4c1a5b08abe4',\n",
       " 'e2d7cc32-5329-4d01-95cf-827cf682b3ce',\n",
       " 'd7e15e95-6b31-4388-a302-ea12b6de94c1',\n",
       " '1810997d-2d6e-45d5-8760-0a97e98372b1',\n",
       " 'f817e8c3-6f86-4f51-8101-3fb0963b3489',\n",
       " '98c809eb-0b69-457e-adb8-6bf21ebd2c05',\n",
       " '5073278d-db61-408f-9694-1c68e7bf3aa6',\n",
       " '0ff2b4d9-da84-49d1-9a40-7850db133093',\n",
       " 'e8b10010-9b21-43b2-8384-3b01ae9be67b',\n",
       " 'f891b445-e9e6-4136-b00f-1df5d44e03f9',\n",
       " 'bc0cafb1-090d-450d-95ae-0212c46cc96f',\n",
       " 'a53ed6b9-7da4-4102-b77e-5d1ff126fea1',\n",
       " '48887d81-1888-443b-a52b-b52ed92c88a2',\n",
       " 'bb478a95-d561-4aa2-b050-7bf41aec3744',\n",
       " '0499a918-026a-46f6-b229-d72c0ea5a560',\n",
       " 'c68050f0-0c46-4226-a93c-65e7e0b4f31e',\n",
       " 'a85757b6-d1e9-4b9a-9217-277a51ffdd2d',\n",
       " '8a0791cf-65e2-4723-8e3b-5a5c5ff00306',\n",
       " 'ea02932d-a84d-4efb-9fd1-6c1716a81809',\n",
       " 'dd68deaf-e5b9-4fe5-a9db-3d42aaaf3656',\n",
       " '4a7f5bdf-d243-4cfe-bfda-831747eba39f',\n",
       " '2a01f8d6-91c8-472a-a53e-8f2992fc27a9',\n",
       " 'ae06e726-fa67-4cee-9372-c63022d1c24e',\n",
       " 'a92661bb-09ce-44e5-948e-efde10f78ff0',\n",
       " '645283de-97c1-4353-bc46-68e6b09f68e7',\n",
       " '4d72c8ce-ae66-419c-8bf9-27695227d40d',\n",
       " '9b0fc29f-8689-428e-8183-9f9ff2ce2c1d',\n",
       " '54462198-e146-43fa-a0b4-9a644fa6803e',\n",
       " 'e3b02573-d0e4-4e40-ac8c-768cc27251d5',\n",
       " '9ed5e907-6d25-4bcb-92aa-5ba4e4a40e33',\n",
       " '3e942935-edb0-451c-9f70-4db9730389a4',\n",
       " '398f736a-8d1b-4bd8-9a1f-40cf3082ef77',\n",
       " 'c7fff3ad-5e8e-4e5b-b262-755042d01f89',\n",
       " '01a0c4f0-0baf-4406-842c-9bfe4078020a',\n",
       " 'b2484731-eb5c-4250-b2f2-2ec3c12d9894',\n",
       " 'b65a74ea-a768-4109-be2e-4fbdf70e9380',\n",
       " '6b7e4480-d4ee-4b46-aea9-750e49b8e291',\n",
       " 'fcbe0262-71d0-480a-a956-87e9f9ad9a79',\n",
       " 'df4d3d31-770d-4176-930a-7ca8c37fabe4',\n",
       " '4fdde031-0a0c-456d-9069-d90fb41f8318',\n",
       " 'd56db339-b97c-4457-8503-2f1e122edb38',\n",
       " 'cf3ecc81-13b9-4ea8-967d-ea606ea8bab7',\n",
       " 'd49a478c-b119-4dcb-982d-1363d6a8d7b3',\n",
       " 'e7d0d1cb-d65f-498a-bd63-64c9d457b0d2',\n",
       " 'ffde54cc-9f08-494b-88bf-a09a8ac7441d',\n",
       " '5b113b07-74bf-4b07-8ce0-0fcf9df3a4e6',\n",
       " '73aa1d1b-1033-4805-b364-24cb85b69636',\n",
       " '9267c8b2-b75f-493c-8613-d57d681791ef',\n",
       " '44f2f02d-1738-476b-8c67-468826002bbc',\n",
       " '98f76df8-b134-461f-8173-6db564e8b631',\n",
       " '5bfe4091-d06a-4bdf-b42c-737b4974524f',\n",
       " 'c8f5979d-590f-445b-91a2-2dfd8925a1b1',\n",
       " '70d6408e-d701-450a-b4a9-2c2a77c17625',\n",
       " 'ceb3d47e-9780-42a4-a5b9-2c1efdbc490a',\n",
       " '8a42baaf-93fe-4801-b1c4-12f3e6a352e7',\n",
       " '40e9eb09-ee1c-4aad-aec4-0e697b927847',\n",
       " '6c9f65ff-b9a0-48a1-a0d0-4a6c33669457',\n",
       " '6c366ba7-d7ce-4fd0-b0a3-1d66c1757773',\n",
       " 'dd145c85-6b40-485c-9e6b-5d062cf8a7c0',\n",
       " 'bbe58c55-68f8-4e00-bea5-db68814d95ab',\n",
       " '1e5e73b9-e061-4be0-8415-83580a259f35',\n",
       " 'cd7fa859-61fc-4c23-b814-39d246df6bd4',\n",
       " '2837690f-140f-42c0-84ec-ad5af8f34b2c',\n",
       " '0ea60998-7ffc-43c4-ad9b-c0083a27759f',\n",
       " '43e9c79f-f032-41dc-b469-658471f6fa23',\n",
       " '23add15a-5788-4b5a-a92f-d819488db2dc',\n",
       " 'bcecf7c2-3ecb-4207-9279-ae6b71b95f74',\n",
       " 'dcca2c75-9ed3-454c-a32a-e38d32de5d99',\n",
       " 'edbf1c83-726b-4a5e-b78e-e940a1f2ce8a',\n",
       " '4aa5a373-c71a-4df8-89f0-c6a42baffaee',\n",
       " '5eb1b34f-71d8-444f-8c31-31beb155c625',\n",
       " 'c41719a5-fac4-453a-bf17-bd6c19862379',\n",
       " 'd69ebbe9-5270-4263-9b75-22bfdbbdac0d',\n",
       " '07703c78-5536-4c12-a71d-e25969fe4d3d',\n",
       " '4b33e358-f130-46c9-8a41-9bd0e48be852',\n",
       " '422baa03-1d30-422a-bf1b-8c8cc77df79d',\n",
       " '9f9598d0-7a35-4ade-9aa4-e165400e5b50',\n",
       " '3fecdf3a-c40b-4a02-967b-ca2aea5268b9',\n",
       " '93292ab5-690b-4071-af0e-83322a84a891',\n",
       " '506b1d74-01a4-45f1-befe-9ba2264fbc49',\n",
       " '58430a6d-cc2c-41b9-9ff1-b659bb8eb101',\n",
       " '0ff6d324-1fcc-4fb0-9d29-c181e4c44d47',\n",
       " 'eb4d3a13-8726-4dc5-8d6f-18571c33e02f',\n",
       " 'e664740a-98b9-4020-992a-eec6c9f7e511',\n",
       " '5956641a-b1a2-4569-8180-cd1c456e3937',\n",
       " '54bd19ec-5ccb-41a9-912c-3a8f8895833f',\n",
       " '1465e257-0967-4867-8ca0-711a519a333a',\n",
       " '395179dc-69a3-4b56-a625-63c616eada6e',\n",
       " '314a5a47-bbdf-4a19-8e23-cc287c9524a0',\n",
       " 'ce7ab5ce-bde9-472d-bbbd-e5a1665c83d6',\n",
       " '1e6de6c0-d90e-4d41-b9bb-dbe229d3bc8f',\n",
       " '50b9175e-7617-4e42-bc5f-b017f32290d3',\n",
       " '17952f9a-1897-464a-ac40-46fbd122b53b',\n",
       " 'e159d5c3-04f7-41b7-9af2-ca8065fb2694',\n",
       " 'abb7b582-f2d1-4ab6-b947-5b01d54819f9',\n",
       " 'b37c3a97-7196-4eea-ab54-9adc9cdd2e9f',\n",
       " '5ab7ebd4-6ccb-4ea6-abc9-2bb60775807a',\n",
       " '3ad4118d-5834-4a61-9e93-d5d2f07c651f',\n",
       " '1d5b9129-3773-45e2-94f6-e65b7d2d3f6d',\n",
       " '51cceee8-f6e5-4488-bd13-d9f5099ea7f4',\n",
       " 'e180edb0-4ebc-48a0-8e62-4d0e9b8784dc',\n",
       " '79fb111f-10ab-4607-aca4-16acc0cc6754',\n",
       " '1fa126d0-e24e-4618-b1f1-991c14d9b76e',\n",
       " '02361026-c6a6-4188-a2b7-b8c99b513fff',\n",
       " 'ab601032-4605-479f-82cf-85489f70ed49',\n",
       " '29ec916a-d02b-48ea-b946-c2e6f47b7bac',\n",
       " '6d6404d2-58bf-4336-9100-d9204b10e5e3',\n",
       " '4c1d6613-e75f-4171-8d1f-f75feec6a20f',\n",
       " 'ed56fda4-748d-4bec-8040-0aa3622b4e86',\n",
       " '3da2732a-f9d5-42bf-8faa-ee8c0416f6ff',\n",
       " '6403d13c-318f-4b0e-9c6b-531cf4a0cec6',\n",
       " '09c60d3c-b358-4f61-9710-c5813658745d',\n",
       " '80dc4fdb-fb21-4ace-864b-9c5fd21ce272',\n",
       " 'eb4f1ec7-b0c4-4569-aa6f-47c5c9079d49',\n",
       " '0be1ae88-f4bc-4ba6-9db3-20bc8279e1e0',\n",
       " '3285b5ab-6e59-462d-9872-9bc460751111',\n",
       " '043bef90-e70e-4e81-a02e-6fe274ddbcde',\n",
       " '01416250-fc12-43e0-9f33-2bbcea1f4c51',\n",
       " '7e02985d-1ad4-4bba-9471-f4e8b45840d8',\n",
       " '85aa1a57-3ae8-43dc-8612-d28b091ad82a',\n",
       " '0fbb6349-cc5c-43df-bd05-4169f0919a35',\n",
       " '5cee440a-0a8b-4596-ad57-d352f46d1d17',\n",
       " '3d5ac269-d6b3-415d-9f47-af83cdb802db',\n",
       " '74971566-1d90-49a4-8956-f42238b87ac8',\n",
       " 'a6d4ca4a-0ade-4890-98cd-09437aa34f99',\n",
       " '75b752b8-993f-4251-ae26-75549cb783bc',\n",
       " '9a5a4343-d254-414a-a5ed-ee125ca7f33a',\n",
       " 'db24cd22-ef88-47c7-b60f-7a2875fe01f7',\n",
       " '6c8e1110-2063-45f9-9872-d0ac58373df7',\n",
       " '7d78fa16-9bd9-4c11-a2d6-8500fe32e0b3',\n",
       " '7b2feef9-ece1-4780-b82e-7e8fb49bcc57',\n",
       " '32bbe75b-909f-45bc-976c-755f90f8150b',\n",
       " 'b4719215-a8b5-4394-a6ec-88d7cd3abf05',\n",
       " 'e8229c12-83dc-4411-b556-14952f57acd8',\n",
       " 'f45843d0-ec33-439b-a735-40bfc576e21b',\n",
       " '2c671f62-341f-40e9-a729-03ecf383571d',\n",
       " '8bfebd59-ceae-49e7-b754-586d77cdb68e',\n",
       " 'b9ecd06a-2cb2-4145-97ca-01651538093c',\n",
       " 'da6bbf4d-d0df-4a71-8440-93d3a35d5eb4',\n",
       " 'db165940-8f6a-4455-bd5f-28af993463da',\n",
       " '59b75dec-2618-4dc8-a3f6-763f50fcf8bc',\n",
       " '5bd0ba7e-e56a-4261-9bc4-82c4120d164a',\n",
       " 'ca814e58-69aa-4850-a083-9fa48ea7ba2f',\n",
       " '2f2a98a6-811e-4a34-a597-c71b8ef00122',\n",
       " 'f63a1665-99ff-4b2e-ae8b-93139e211675',\n",
       " '84453878-3bab-49d5-b6af-31fff8dd28b3',\n",
       " '82817249-9431-4570-8e66-fd0e1b37ea3e',\n",
       " '1bbf1f08-c970-449a-94dc-a429b4abe0cb',\n",
       " '76ee5f1b-1f90-4d5d-883b-494516f5a849',\n",
       " 'ca6c101a-be5c-464b-bf9c-440198b9e94d',\n",
       " '6b0d4aae-7307-4acf-a0a1-cb1e48476212',\n",
       " 'd370088c-9c83-41c1-bef0-bf521a5e7eba',\n",
       " 'f766cf4c-acfe-418a-a345-21cc15ab2e54',\n",
       " '8ad36502-1089-4f38-b7bd-ba2413086454',\n",
       " '1629c0b0-75ba-455b-b3e1-1a2857d238a9',\n",
       " 'd41eddc2-3bcf-445e-a2af-6bfbc5418f13',\n",
       " '647065b0-78c7-4d67-8c38-e866b447e7ae',\n",
       " '59005e32-5cf2-4a43-90b4-1349d43b7670',\n",
       " '087c9d91-6816-4885-98a7-574eed9de97a',\n",
       " '0a740535-72f9-40dc-b295-35e1266f190b',\n",
       " 'abc2a090-ac1f-4e21-8e4e-380e69bf00bb',\n",
       " 'defaac01-10e7-4c88-afd8-3489cdb1f6f5',\n",
       " 'a329f193-f65c-4c5e-b34f-598e9a2932b9',\n",
       " 'e26ba767-4e8f-4f0f-a641-455c761d05fc',\n",
       " '479de5ad-2859-4d82-9c24-fcb89c8184a0',\n",
       " 'c29ba32f-df61-4d02-a12b-4da995850842',\n",
       " 'f485c2d7-028f-47da-9965-92fec84e6e72',\n",
       " 'f249bea0-177c-4d09-98be-0fe5d19a1eb9',\n",
       " '49d8e900-66ee-4192-a795-cbc3f06c8248']"
      ]
     },
     "execution_count": 28,
     "metadata": {},
     "output_type": "execute_result"
    }
   ],
   "source": [
    "pdf_loader1 = PyPDFLoader('./data/Saral_Vastu_Shastra_Eng.pdf')\n",
    "\n",
    "pdf_loaded_data1 = pdf_loader1.load_and_split()\n",
    "vectorstore.add_documents(documents=pdf_loaded_data1)"
   ]
  },
  {
   "cell_type": "code",
   "execution_count": 29,
   "id": "2d55df81-acac-4eae-8515-9346eaf2ac9f",
   "metadata": {},
   "outputs": [],
   "source": [
    "retriever = vectorstore.as_retriever(search_kwargs={\"k\": 5})\n",
    "\n",
    "#prompt = hub.pull(\"rlm/rag-prompt\")"
   ]
  },
  {
   "cell_type": "code",
   "execution_count": 30,
   "id": "6d550844-cf81-44e9-875a-047f24afa482",
   "metadata": {},
   "outputs": [],
   "source": [
    "from langchain_core.prompts import ChatPromptTemplate\n",
    "template = \"\"\"Answer the question based only on the following context. If context is not available then you reply based on your information:\n",
    "\n",
    "{context}\n",
    "\n",
    "Question: {question}\n",
    "\"\"\"\n",
    "prompt = ChatPromptTemplate.from_template(template)"
   ]
  },
  {
   "cell_type": "code",
   "execution_count": 31,
   "id": "55c2ad79-8875-48d2-960e-3493a2d6b033",
   "metadata": {},
   "outputs": [],
   "source": [
    "def format_docs(docs):\n",
    "    return \"\\n\\n\".join(doc.page_content for doc in docs)"
   ]
  },
  {
   "cell_type": "code",
   "execution_count": 32,
   "id": "cfb9f294-eee4-4670-a734-f1ae05cb00b4",
   "metadata": {},
   "outputs": [],
   "source": [
    "rag_chain = (\n",
    "    {\"context\": retriever | format_docs, \"question\": RunnablePassthrough()}\n",
    "    | prompt\n",
    "    | chatModel\n",
    "    | StrOutputParser()\n",
    ")"
   ]
  },
  {
   "cell_type": "code",
   "execution_count": 33,
   "id": "217016a8-5d72-4e5e-bfa8-2b595e9f3bd6",
   "metadata": {},
   "outputs": [
    {
     "name": "stdout",
     "output_type": "stream",
     "text": [
      "According to Vastu principles, the most ideal spot for the kitchen is the South-East corner of the house. This is because the South-East corner is considered the seat of Agni-Tatwa or the fire element. It is important to face east while cooking. However, care must be taken to not align the kitchen directly in front of the main door of the house."
     ]
    }
   ],
   "source": [
    "query= \"According to Vastu where should be kitchen situated?\"\n",
    "for chunk in rag_chain.stream(query):\n",
    "    print(chunk, end=\"\", flush=True)"
   ]
  },
  {
   "cell_type": "code",
   "execution_count": 34,
   "id": "350b4e47-e4c6-4343-a95b-8d94776af928",
   "metadata": {},
   "outputs": [
    {
     "name": "stdout",
     "output_type": "stream",
     "text": [
      "Based on the provided context, if the kitchen is not positioned according to Vastu principles, here are some alternatives and remedies to mitigate any negative effects:\n",
      "\n",
      "1. **Use of Colors**: Paint the kitchen walls with colors that represent the fire element, such as red, orange, or pink, to strengthen the element's presence.\n",
      "\n",
      "2. **Placement of Stove**: If possible, relocate the stove so that it is in the southeast corner of the kitchen. If this is not feasible, ensure that the person cooking faces east while using the stove.\n",
      "\n",
      "3. **Mirror Reflection**: Place a mirror on the wall opposite the stove so that it reflects the burners. This is believed to create a virtual southeast direction.\n",
      "\n",
      "4. **Pyramid Power**: Install a Vastu pyramid in the kitchen to help balance and harmonize the energy in the space.\n",
      "\n",
      "5. **Lighting**: Ensure the kitchen is well-lit, as bright light is associated with the fire element and can help strengthen its presence.\n",
      "\n",
      "6. **Crystal Remedy**: Hang a clear crystal sphere in the kitchen window to disperse negative energy and bring in positive vibes.\n",
      "\n",
      "7. **Plants**: Place fire-element plants, like red or orange flowers, in the kitchen to enhance the fire energy.\n",
      "\n",
      "8. **Aroma**: Use aromatic herbs and spices in your cooking to create a positive and inviting atmosphere in the kitchen.\n",
      "\n",
      "While these remedies can help mitigate the effects of a kitchen not built according to Vastu principles, it's essential to consult a Vastu expert for personalized advice tailored to your specific situation."
     ]
    }
   ],
   "source": [
    "query= \"If kitechen is not according to Vastu, then what is alternatives\"\n",
    "for chunk in rag_chain.stream(query):\n",
    "    print(chunk, end=\"\", flush=True)"
   ]
  },
  {
   "cell_type": "code",
   "execution_count": 35,
   "id": "de91a43f-e528-4799-8725-666a765c2020",
   "metadata": {},
   "outputs": [
    {
     "name": "stdout",
     "output_type": "stream",
     "text": [
      "Based on the provided context, the house you described is not fully in accordance with Vastu principles. Here's why:\n",
      "\n",
      "1. **Entrance**: West facing entrances are not considered ideal according to Vastu. The best entrances are east or north-east, followed by north-west.\n",
      "\n",
      "2. **Kitchen**: The kitchen in the south-east corner is in accordance with Vastu, as it is the seat of Agni-Tatwa or the fire element.\n",
      "\n",
      "3. **Master Bedroom**: The master bedroom in the north is not in accordance with Vastu. The ideal position for a master bedroom is in the south-west corner.\n",
      "\n",
      "Here are some remedies that could help mitigate the Vastu defects:\n",
      "\n",
      "1. **For the West facing entrance**:\n",
      "   - Place a pair of elephant statues or paintings facing the door, as elephants are considered to bring strength and good luck.\n",
      "   - Hang a mirror on the wall opposite the main door to reflect away any negative energy.\n",
      "   - Place a plant or a water feature on either side of the door, as both are considered to bring positive energy.\n",
      "\n",
      "2. **For the Master Bedroom in the north**:\n",
      "   - Sleep with your head towards the south to align with the earth's magnetic field, which is considered beneficial.\n",
      "   - Keep the room well-organized and clutter-free to allow positive energy to flow freely.\n",
      "   - Use warm and earthy colors for the bedroom walls to create a balanced environment.\n",
      "\n",
      "3. **General Remedies**:\n",
      "   - You can also perform a Vastu puja or space cleansing ceremony to invite positive energy into the house.\n",
      "   - Consulting with a professional Vastu expert could provide more personalized remedies tailored to your specific situation."
     ]
    }
   ],
   "source": [
    "query= \"House having west facing entrance, with south east corner kitchen and master bed room in north. Is it accordance with Vastu. If not then what remedies are needed?\"\n",
    "for chunk in rag_chain.stream(query):\n",
    "    print(chunk, end=\"\", flush=True)"
   ]
  },
  {
   "cell_type": "code",
   "execution_count": 36,
   "id": "da416309-6f1c-4837-9114-5447f5e4c2b0",
   "metadata": {},
   "outputs": [
    {
     "name": "stdout",
     "output_type": "stream",
     "text": [
      "Vastu is a complex ancient Indian science that involves understanding and balancing the interplay between the five elements (earth, water, fire, air, and space) and the eight cardinal directions. It aims to harmonize the flow of energy within a space, such as a home, to promote positive energy and bring benefits to the residents.\n",
      "\n",
      "Vastu is considered necessary for several reasons:\n",
      "\n",
      "1. **Harmony and Balance**: Vastu helps create a rhythm and balance in a building, ensuring a qualitatively better life for its inhabitants.\n",
      "\n",
      "2. **Physical, Spiritual, and Material Well-being**: It aims to enhance these aspects of life for the residents.\n",
      "\n",
      "3. **Harnessing Energies**: Vastu efficiently harnesses known physical energies like solar, thermal, magnetic, electrical, and other cosmic energies.\n",
      "\n",
      "4. **Protection**: It is believed to provide protection from natural calamities like earthquakes and cyclones.\n",
      "\n",
      "5. **Achieving Life Goals**: According to Vastu Shastra, the proper implementation of its principles can help achieve the four main focuses of human existence: Dharma (spiritual happiness), Arth (wealth), Kama (desire), and Moksha (salvation).\n",
      "\n",
      "Therefore, Vastu is deemed necessary for creating a harmonious, prosperous, and safe living environment."
     ]
    }
   ],
   "source": [
    "query= \"What is Vastu and whay it is necessary?\"\n",
    "for chunk in rag_chain.stream(query):\n",
    "    print(chunk, end=\"\", flush=True)"
   ]
  },
  {
   "cell_type": "code",
   "execution_count": null,
   "id": "25bd1158-d4ca-40c7-9f2e-4e37d6870eaa",
   "metadata": {},
   "outputs": [],
   "source": []
  }
 ],
 "metadata": {
  "kernelspec": {
   "display_name": "poetry-env-mistral",
   "language": "python",
   "name": "poetry-env-mistral"
  },
  "language_info": {
   "codemirror_mode": {
    "name": "ipython",
    "version": 3
   },
   "file_extension": ".py",
   "mimetype": "text/x-python",
   "name": "python",
   "nbconvert_exporter": "python",
   "pygments_lexer": "ipython3",
   "version": "3.11.4"
  }
 },
 "nbformat": 4,
 "nbformat_minor": 5
}
