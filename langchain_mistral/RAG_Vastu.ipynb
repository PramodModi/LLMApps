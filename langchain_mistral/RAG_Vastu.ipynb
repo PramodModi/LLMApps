{
 "cells": [
  {
   "cell_type": "code",
   "execution_count": 4,
   "id": "15c0aa56-8d09-4ad7-8b66-7b3f32c317ae",
   "metadata": {},
   "outputs": [],
   "source": [
    "import os\n",
    "from dotenv import load_dotenv, find_dotenv\n",
    "_ = load_dotenv(find_dotenv())\n",
    "mistral_api_key = os.environ[\"MISTRAL_API_KEY\"]"
   ]
  },
  {
   "cell_type": "code",
   "execution_count": 5,
   "id": "0f508a6a-356a-41e8-8673-1bc7234662fb",
   "metadata": {},
   "outputs": [],
   "source": [
    "from langchain_mistralai import ChatMistralAI\n",
    "\n",
    "chatModel = ChatMistralAI(\n",
    "    mistral_api_key=mistral_api_key,\n",
    "    model=\"mistral-large-latest\",\n",
    "    temperature=0.7,\n",
    "    max_retries=2,\n",
    "    # other params...\n",
    ")"
   ]
  },
  {
   "cell_type": "code",
   "execution_count": 6,
   "id": "4d5ab885-656f-4f82-8bec-cc8d76c90824",
   "metadata": {},
   "outputs": [
    {
     "name": "stderr",
     "output_type": "stream",
     "text": [
      "USER_AGENT environment variable not set, consider setting it to identify your requests.\n"
     ]
    }
   ],
   "source": [
    "import bs4\n",
    "from langchain import hub\n",
    "from langchain_chroma import Chroma\n",
    "from langchain_community.document_loaders import WebBaseLoader\n",
    "from langchain_core.output_parsers import StrOutputParser\n",
    "from langchain_core.runnables import RunnablePassthrough\n",
    "from langchain_text_splitters import RecursiveCharacterTextSplitter\n",
    "from langchain_huggingface import HuggingFaceEmbeddings"
   ]
  },
  {
   "cell_type": "code",
   "execution_count": 7,
   "id": "0fa487f0-a230-40cf-8ee9-e99d6f39b4ff",
   "metadata": {},
   "outputs": [],
   "source": [
    "loader = WebBaseLoader(\n",
    "    web_paths=(\"https://vaastuvidwan.com/how-to-use-pyramid-for-vastu-correction/\",\n",
    "              \"https://www.houseofhiranandani.com/vlogs/all-you-need-to-know-about-vastu-before-buying-a-new-home/\",\n",
    "              \"https://www.niranjanbabu.com/vastu-for-homes.html\", \n",
    "              \"https://www.fortiusinfra.com/buying-a-vastu-compliant-apartment-in-bangalore/\",),\n",
    "    bs_kwargs=dict(\n",
    "        parse_only=bs4.SoupStrainer(\n",
    "            class_=(\"elementor elementor-3113 elementor-location-single post-3025 post type-post status-publish format-standard has-post-thumbnail hentry category-uncategorized tag-pyramid-vastu\",\n",
    "                   \"entry-content\", \"container\", \"inner-content\", )\n",
    "        )\n",
    "    ),\n",
    ")"
   ]
  },
  {
   "cell_type": "code",
   "execution_count": 8,
   "id": "fbaceffa-bd59-4858-8b17-dbb4df6cea88",
   "metadata": {},
   "outputs": [],
   "source": [
    "docs = loader.load()"
   ]
  },
  {
   "cell_type": "code",
   "execution_count": 9,
   "id": "73a90122-8647-4d0e-acf3-7199a94b9b10",
   "metadata": {},
   "outputs": [],
   "source": [
    "text_splitter = RecursiveCharacterTextSplitter(chunk_size=1000, chunk_overlap=500)"
   ]
  },
  {
   "cell_type": "code",
   "execution_count": 10,
   "id": "d9b0a9c4-95ee-4736-9a76-b48cb90c1a5c",
   "metadata": {},
   "outputs": [],
   "source": [
    "splits = text_splitter.split_documents(docs)"
   ]
  },
  {
   "cell_type": "code",
   "execution_count": 11,
   "id": "5b3e5096-3c9d-45b0-8fff-82ad577c3b4c",
   "metadata": {},
   "outputs": [
    {
     "name": "stderr",
     "output_type": "stream",
     "text": [
      "/Users/pramodmodi/Library/Caches/pypoetry/virtualenvs/langchain-mistral-xuCIEomg-py3.11/lib/python3.11/site-packages/sentence_transformers/cross_encoder/CrossEncoder.py:13: TqdmWarning: IProgress not found. Please update jupyter and ipywidgets. See https://ipywidgets.readthedocs.io/en/stable/user_install.html\n",
      "  from tqdm.autonotebook import tqdm, trange\n"
     ]
    }
   ],
   "source": [
    "vectorstore = Chroma.from_documents(documents=splits, embedding=HuggingFaceEmbeddings(model_name=\"all-MiniLM-L6-v2\"))"
   ]
  },
  {
   "cell_type": "markdown",
   "id": "578883d4-f2e2-4716-bfbf-b361dada2492",
   "metadata": {},
   "source": [
    "## Add pdf data"
   ]
  },
  {
   "cell_type": "code",
   "execution_count": 12,
   "id": "6c8d793b-3a1e-4191-817b-039abb9b730b",
   "metadata": {},
   "outputs": [],
   "source": [
    "from langchain_community.document_loaders import PyPDFLoader\n",
    "\n",
    "pdf_loader = PyPDFLoader('./data/vastu-for-house.pdf')\n",
    "\n",
    "pdf_loaded_data = pdf_loader.load_and_split()"
   ]
  },
  {
   "cell_type": "code",
   "execution_count": 14,
   "id": "81836aea-972b-4578-a3ae-b7e52209034a",
   "metadata": {},
   "outputs": [
    {
     "data": {
      "text/plain": [
       "['197feec1-c6f8-4252-8f5b-9f55402636b5',\n",
       " '4e9ccd9a-5b44-4fb4-b883-8373553e96cc',\n",
       " '60745eed-20a8-4e67-a565-d540c1e1bd5a',\n",
       " '670d2bf0-3a74-4882-8ef7-e0555e786f88',\n",
       " '0357ebd4-5865-479f-9864-a4616b22bc36',\n",
       " '16a9063e-52e7-4dca-8b66-7141c51081e7',\n",
       " 'a54b24a6-fadb-4d1d-be69-764ab381777f',\n",
       " '076f8899-08be-4348-b52f-ba5839fec8d7',\n",
       " '2bb69331-ac20-41f0-86c5-2e41968e44ae',\n",
       " '8f041ce0-49c7-41d4-935e-8b2a8920c5ad',\n",
       " 'e4c2379a-9479-4d33-ac9e-30d19885ef6c',\n",
       " '5d0005d6-0119-4a17-99b1-333ccea31cc5',\n",
       " '26ef4cd8-082e-44b7-8688-9038c0e8a8a9',\n",
       " '51e11a24-4e79-4bc6-b686-5a2532562b82',\n",
       " '36675a57-acbf-492a-875d-6343b2c9c10d',\n",
       " '90fd4fc9-9258-4cb2-b4d7-cd88b02c7cb0',\n",
       " '538f7e0c-cee3-4f09-9b12-532eab5c33ec',\n",
       " 'c8d08cd8-79f0-421b-8d95-ea484eca2174',\n",
       " 'de4f913c-e98f-4384-aba2-2d9ea6012e7b',\n",
       " '82d83c26-659a-4eee-82c6-4cb7bbca6f9d',\n",
       " '7af62b5f-1b77-4e4e-8dc8-85bd1df1a222',\n",
       " 'fb6b365c-2da6-4db1-ae7c-f48398097877',\n",
       " '444a6c31-b9fc-45e9-84e4-ea73067d1a2f',\n",
       " 'ad66c429-149d-4a34-8841-8b604e43041f',\n",
       " '67651f35-a4cd-468d-a929-85adb4969896',\n",
       " '7ee69975-f1e2-4048-8a35-0c3dc17a2465',\n",
       " 'eaf6bd8c-619e-459e-bf4e-d6f2c3d2eb8a',\n",
       " '3a02de84-6633-4ed2-ab6c-dd4a79cb40f4',\n",
       " 'f4623922-f11c-43c5-85fa-cd5f57b0d062',\n",
       " '181dec3c-4176-4873-b814-045bcc348f6c']"
      ]
     },
     "execution_count": 14,
     "metadata": {},
     "output_type": "execute_result"
    }
   ],
   "source": [
    "vectorstore.add_documents(documents=pdf_loaded_data)"
   ]
  },
  {
   "cell_type": "code",
   "execution_count": 15,
   "id": "2d55df81-acac-4eae-8515-9346eaf2ac9f",
   "metadata": {},
   "outputs": [],
   "source": [
    "retriever = vectorstore.as_retriever(search_kwargs={\"k\": 5})\n",
    "\n",
    "#prompt = hub.pull(\"rlm/rag-prompt\")"
   ]
  },
  {
   "cell_type": "code",
   "execution_count": 21,
   "id": "6d550844-cf81-44e9-875a-047f24afa482",
   "metadata": {},
   "outputs": [],
   "source": [
    "from langchain_core.prompts import ChatPromptTemplate\n",
    "template = \"\"\"Answer the question based only on the following context. If context is not available then you reply based on your information:\n",
    "\n",
    "{context}\n",
    "\n",
    "Question: {question}\n",
    "\"\"\"\n",
    "prompt = ChatPromptTemplate.from_template(template)"
   ]
  },
  {
   "cell_type": "code",
   "execution_count": 22,
   "id": "55c2ad79-8875-48d2-960e-3493a2d6b033",
   "metadata": {},
   "outputs": [],
   "source": [
    "def format_docs(docs):\n",
    "    return \"\\n\\n\".join(doc.page_content for doc in docs)"
   ]
  },
  {
   "cell_type": "code",
   "execution_count": 23,
   "id": "cfb9f294-eee4-4670-a734-f1ae05cb00b4",
   "metadata": {},
   "outputs": [],
   "source": [
    "rag_chain = (\n",
    "    {\"context\": retriever | format_docs, \"question\": RunnablePassthrough()}\n",
    "    | prompt\n",
    "    | chatModel\n",
    "    | StrOutputParser()\n",
    ")"
   ]
  },
  {
   "cell_type": "code",
   "execution_count": 24,
   "id": "217016a8-5d72-4e5e-bfa8-2b595e9f3bd6",
   "metadata": {},
   "outputs": [
    {
     "name": "stdout",
     "output_type": "stream",
     "text": [
      "According to Vastu principles, the kitchen should be situated in the South-East corner of the house. It is also important to ensure that the kitchen is not directly facing the main door of the house."
     ]
    }
   ],
   "source": [
    "query= \"According to Vastu where should be kitchen situated?\"\n",
    "for chunk in rag_chain.stream(query):\n",
    "    print(chunk, end=\"\", flush=True)"
   ]
  },
  {
   "cell_type": "code",
   "execution_count": 25,
   "id": "350b4e47-e4c6-4343-a95b-8d94776af928",
   "metadata": {},
   "outputs": [
    {
     "name": "stdout",
     "output_type": "stream",
     "text": [
      "Based on the provided context, if the kitchen is not positioned according to Vastu principles, here are some alternatives and corrections you can consider:\n",
      "\n",
      "1. **Use of Colors**: Paint the kitchen walls with colors that represent the fire element, such as red, orange, or saffron, to strengthen the element's presence.\n",
      "\n",
      "2. **Placement of Stove**: If possible, relocate the stove so that it is in the southeast corner of the kitchen. If this is not feasible, ensure that the person cooking faces east while cooking.\n",
      "\n",
      "3. **Mirror Reflection**: Place a mirror on the wall opposite the stove so that it reflects the burners. This is believed to create a virtual southeast direction.\n",
      "\n",
      "4. **Use of Crystals**: Hang a pyramid or sphere made of clear quartz crystal above the stove to help balance the energies.\n",
      "\n",
      "5. **Lighting**: Ensure the kitchen is well-lit, as light is considered a good substitute for the fire element.\n",
      "\n",
      "6. **Plants**: Place a living green plant in the kitchen to invite positive energy and balance the elements.\n",
      "\n",
      "7. **Clutter-free**: Keep the kitchen clean, clutter-free, and well-organized to allow the free flow of positive energy."
     ]
    }
   ],
   "source": [
    "query= \"If kitechen is not according to Vastu, then what is alternatives\"\n",
    "for chunk in rag_chain.stream(query):\n",
    "    print(chunk, end=\"\", flush=True)"
   ]
  },
  {
   "cell_type": "code",
   "execution_count": 26,
   "id": "de91a43f-e528-4799-8725-666a765c2020",
   "metadata": {},
   "outputs": [
    {
     "name": "stdout",
     "output_type": "stream",
     "text": [
      "Based on the provided context about Vastu compliance, the house you described has the following issues:\n",
      "\n",
      "1. **West-facing entrance**: This is not considered ideal as the best entries are east or north-east, followed by north-west. West is not mentioned as a favorable direction for the main entrance.\n",
      "\n",
      "2. **South-east corner kitchen**: This is in accordance with Vastu principles as the south-east corner is considered the ideal spot for the kitchen.\n",
      "\n",
      "3. **Master bedroom in the north**: This is not in accordance with Vastu principles, which suggest that the master bedroom should be in the south-west corner of the house.\n",
      "\n",
      "Here are some remedies to help mitigate these issues:\n",
      "\n",
      "1. **For the west-facing entrance**:\n",
      "   - Place a mirror on the wall opposite the main door to deflect any negative energy.\n",
      "   - Keep the entrance well-lit and clean to attract positive energy.\n",
      "   - You can also place a plant near the entrance, but ensure it's not a thorny or cactus plant.\n",
      "\n",
      "2. **For the master bedroom in the north**:\n",
      "   - Sleep with your head towards the south or east to align with the earth's magnetic field.\n",
      "   - Keep the bedroom clean, clutter-free, and well-organized to promote positive energy flow.\n",
      "   - You can also place heavy furniture in the south or west corners of the bedroom to balance the energy.\n",
      "\n",
      "3. **General remedies**:\n",
      "   - Use paintings or artwork depicting nature and serene scenes to promote positivity throughout the house.\n",
      "   - Keep the house well-ventilated and brightly lit with natural light.\n",
      "   - Regularly clean and maintain the house to ensure the free flow of positive energy."
     ]
    }
   ],
   "source": [
    "query= \"House having west facing entrance, with south east corner kitchen and master bed room in north. Is it accordance with Vastu. If not then what remedies are needed?\"\n",
    "for chunk in rag_chain.stream(query):\n",
    "    print(chunk, end=\"\", flush=True)"
   ]
  },
  {
   "cell_type": "code",
   "execution_count": null,
   "id": "da416309-6f1c-4837-9114-5447f5e4c2b0",
   "metadata": {},
   "outputs": [],
   "source": []
  }
 ],
 "metadata": {
  "kernelspec": {
   "display_name": "poetry-env-mistral",
   "language": "python",
   "name": "poetry-env-mistral"
  },
  "language_info": {
   "codemirror_mode": {
    "name": "ipython",
    "version": 3
   },
   "file_extension": ".py",
   "mimetype": "text/x-python",
   "name": "python",
   "nbconvert_exporter": "python",
   "pygments_lexer": "ipython3",
   "version": "3.11.4"
  }
 },
 "nbformat": 4,
 "nbformat_minor": 5
}
