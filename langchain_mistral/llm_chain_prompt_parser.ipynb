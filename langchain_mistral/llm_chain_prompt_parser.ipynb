{
 "cells": [
  {
   "cell_type": "code",
   "execution_count": null,
   "id": "f94fa296-1f0d-437d-a24b-5d88f7e25b97",
   "metadata": {},
   "outputs": [],
   "source": []
  },
  {
   "cell_type": "code",
   "execution_count": 1,
   "id": "5ea192f1-6b68-48f2-b0d9-08f107ba542a",
   "metadata": {},
   "outputs": [],
   "source": [
    "import os\n",
    "from dotenv import load_dotenv, find_dotenv\n",
    "_ = load_dotenv(find_dotenv())\n",
    "mistral_api_key = os.environ[\"MISTRAL_API_KEY\"]"
   ]
  },
  {
   "cell_type": "code",
   "execution_count": 3,
   "id": "dbe2bffb-258a-44d8-815b-b535935d50c9",
   "metadata": {},
   "outputs": [],
   "source": [
    "from langchain_mistralai import ChatMistralAI\n",
    "\n",
    "chatModel = ChatMistralAI(\n",
    "    mistral_api_key=mistral_api_key,\n",
    "    model=\"mistral-large-latest\",\n",
    "    temperature=0,\n",
    "    max_retries=2,\n",
    "    # other params...\n",
    ")"
   ]
  },
  {
   "cell_type": "markdown",
   "id": "f4410ddb-c26d-4818-bb6d-4dee394a280d",
   "metadata": {},
   "source": [
    "## Prompt Template"
   ]
  },
  {
   "cell_type": "code",
   "execution_count": 4,
   "id": "511081e6-e3be-4184-b330-5eedd7f1ac69",
   "metadata": {},
   "outputs": [],
   "source": [
    "from langchain_core.prompts import PromptTemplate\n",
    "\n",
    "prompt_template = PromptTemplate.from_template(\n",
    "    \"Tell me a {adjective} story about {topic}.\"\n",
    ")\n",
    "\n",
    "llmModelPrompt = prompt_template.format(\n",
    "    adjective=\"curious\", \n",
    "    topic=\"the Kennedy family\"\n",
    ")\n"
   ]
  },
  {
   "cell_type": "code",
   "execution_count": 5,
   "id": "f189c517-e22a-42ad-bea5-a7135845871e",
   "metadata": {},
   "outputs": [],
   "source": [
    "\n",
    "response = chatModel.invoke(llmModelPrompt)"
   ]
  },
  {
   "cell_type": "code",
   "execution_count": 6,
   "id": "ae860c1d-8e50-43d7-8e85-e79c05cfae8a",
   "metadata": {},
   "outputs": [
    {
     "data": {
      "text/plain": [
       "'Sure, I\\'d be happy to share a curious story about the Kennedy family. This one involves a secret letter from Jackie Kennedy to the Soviet leader Nikita Khrushchev.\\n\\nAfter the assassination of President John F. Kennedy in 1963, his widow, Jacqueline Kennedy, was understandably grief-stricken. What\\'s less known is that she took it upon herself to write a personal letter to the Soviet leader, Nikita Khrushchev. This was at the height of the Cold War, and Khrushchev was often portrayed as an enemy of the United States.\\n\\nIn her letter, Jackie thanked Khrushchev for a condolence letter he had sent after JFK\\'s death. She also expressed her and her late husband\\'s desire for peace, writing, \"He was bending all his energies toward this one goal. Then suddenly, the curtain which had fallen between the two of us lifted. We saw each other, we exchanged messages and gifts, and we had become friends.\"\\n\\nThe letter was considered so sensitive that it was kept secret for decades. It was finally made public in 2011, shedding new light on the personal diplomacy that went on behind the scenes during one of the most tense periods in U.S.-Soviet relations. It\\'s a curious story because it shows a very human side of international politics, and it reveals Jackie Kennedy\\'s quiet role in fostering goodwill during a difficult time.'"
      ]
     },
     "execution_count": 6,
     "metadata": {},
     "output_type": "execute_result"
    }
   ],
   "source": [
    "response.content"
   ]
  },
  {
   "cell_type": "markdown",
   "id": "2cea5d7f-9484-426a-bdcc-aa2d18d2b796",
   "metadata": {},
   "source": [
    "## Chat Prompt Template"
   ]
  },
  {
   "cell_type": "code",
   "execution_count": 7,
   "id": "fe99c05a-ad32-47bc-8a20-2ca6a3e7ac53",
   "metadata": {},
   "outputs": [],
   "source": [
    "from langchain_core.prompts import ChatPromptTemplate\n",
    "chat_template = ChatPromptTemplate.from_messages(\n",
    "    [\n",
    "        (\"system\", \"You are an {profession} expert on {topic}.\"),\n",
    "        (\"human\", \"Hello, Mr. {profession}, can you please answer a question?\"),\n",
    "        (\"ai\", \"Sure!\"),\n",
    "        (\"human\", \"{user_input}\"),\n",
    "    ]\n",
    ")\n",
    "\n",
    "messages = chat_template.format_messages(\n",
    "    profession=\"Historian\",\n",
    "    topic=\"The Kennedy family\",\n",
    "    user_input=\"How many grandchildren had Joseph P. Kennedy?\"\n",
    ")\n",
    "\n"
   ]
  },
  {
   "cell_type": "code",
   "execution_count": 8,
   "id": "35e51ad9-6a10-4ff4-b340-75301644fd19",
   "metadata": {},
   "outputs": [],
   "source": [
    "response = chatModel.invoke(messages)"
   ]
  },
  {
   "cell_type": "code",
   "execution_count": 9,
   "id": "822c01e1-089e-42e7-8cf3-4dc465f1932a",
   "metadata": {},
   "outputs": [
    {
     "data": {
      "text/plain": [
       "\"Joseph P. Kennedy Sr. had nine children with his wife Rose Fitzgerald Kennedy. These children were, in order of birth: Joseph P. Kennedy Jr., John F. Kennedy, Rosemary Kennedy, Kathleen Cavendish (née Kennedy), Eunice Kennedy Shriver, Patricia Kennedy Lawford, Robert F. Kennedy, Jean Kennedy Smith, and Edward M. Kennedy.\\n\\nThe number of grandchildren Joseph P. Kennedy Sr. had can be calculated by adding up the children of each of his offspring. Here's a breakdown:\\n\\n1. Joseph P. Kennedy Jr. did not have any children.\\n2. John F. Kennedy had three children: Caroline Kennedy, John F. Kennedy Jr., and Patrick Bouvier Kennedy (who died in infancy).\\n3. Rosemary Kennedy did not have any children.\\n4. Kathleen Cavendish had one child: Victoria Francis Pakenham.\\n5. Eunice Kennedy Shriver had five children: Robert Sargent Shriver III, Maria Shriver, Timothy Shriver, Mark Shriver, and Anthony Shriver.\\n6. Patricia Kennedy Lawford had four children: Christopher Kennedy Lawford, Sydney Maleia Kennedy Lawford, Victoria Francis Lawford, and Robin Elizabeth Lawford.\\n7. Robert F. Kennedy had eleven children: Kathleen Kennedy Townsend, Joseph P. Kennedy II, Robert F. Kennedy Jr., David Anthony Kennedy, Mary Courtney Kennedy Hill, Michael LeMoyne Kennedy, Mary Kerry Kennedy, Christopher George Kennedy, Matthew Maxwell Taylor Kennedy, Douglas Harriman Kennedy, and Rory Elizabeth Katherine Kennedy.\\n8. Jean Kennedy Smith had four children: Stephen Edward Smith Jr., William Kennedy Smith, Amanda Mary Smith, and Kym Maria Smith.\\n9. Edward M. Kennedy had three children: Kara Anne Kennedy Allen, Edward Moore Kennedy Jr., and Patrick Joseph Kennedy II.\\n\\nAdding these up, Joseph P. Kennedy Sr. had a total of 31 grandchildren.\""
      ]
     },
     "execution_count": 9,
     "metadata": {},
     "output_type": "execute_result"
    }
   ],
   "source": [
    "response.content"
   ]
  },
  {
   "cell_type": "markdown",
   "id": "2382f5b6-ecb2-4d44-a97e-8956e5290bd2",
   "metadata": {},
   "source": [
    "## Fewshort template"
   ]
  },
  {
   "cell_type": "code",
   "execution_count": 10,
   "id": "fdff036f-0f7a-4d85-a5c1-47c67758bdca",
   "metadata": {},
   "outputs": [],
   "source": [
    "from langchain_core.prompts import FewShotChatMessagePromptTemplate\n",
    "\n",
    "examples = [\n",
    "    {\"input\": \"hi!\", \"output\": \"¡hola!\"},\n",
    "    {\"input\": \"bye!\", \"output\": \"¡adiós!\"},\n",
    "]\n",
    "\n",
    "example_prompt = ChatPromptTemplate.from_messages(\n",
    "    [\n",
    "        (\"human\", \"{input}\"),\n",
    "        (\"ai\", \"{output}\"),\n",
    "    ]\n",
    ")\n",
    "\n",
    "few_shot_prompt = FewShotChatMessagePromptTemplate(\n",
    "    example_prompt=example_prompt,\n",
    "    examples=examples,\n",
    ")\n",
    "\n",
    "final_prompt = ChatPromptTemplate.from_messages(\n",
    "    [\n",
    "        (\"system\", \"You are an English-Spanish translator.\"),\n",
    "        few_shot_prompt,\n",
    "        (\"human\", \"{input}\"),\n",
    "    ]\n",
    ")"
   ]
  },
  {
   "cell_type": "code",
   "execution_count": 11,
   "id": "72d115ed-0598-4746-9ca1-f5071d0c005a",
   "metadata": {},
   "outputs": [],
   "source": [
    "chain = final_prompt | chatModel\n",
    "\n",
    "response = chain.invoke({\"input\": \"Good Night\"})"
   ]
  },
  {
   "cell_type": "code",
   "execution_count": 12,
   "id": "2ff13ee1-59cf-4469-b0ba-53f6dbcb9445",
   "metadata": {},
   "outputs": [
    {
     "data": {
      "text/plain": [
       "'Buenas noches'"
      ]
     },
     "execution_count": 12,
     "metadata": {},
     "output_type": "execute_result"
    }
   ],
   "source": [
    "response.content"
   ]
  },
  {
   "cell_type": "markdown",
   "id": "5d1d611d-0fe8-4411-b109-1c8a8cc904d2",
   "metadata": {},
   "source": [
    "## With Parser"
   ]
  },
  {
   "cell_type": "code",
   "execution_count": 14,
   "id": "319a316e-e9e0-4fc4-bb9e-bff3f5c8b6a1",
   "metadata": {},
   "outputs": [],
   "source": [
    "from langchain.output_parsers.json import SimpleJsonOutputParser\n",
    "\n",
    "json_prompt = PromptTemplate.from_template(\n",
    "    \"Return a JSON object with an `answer` key that answers the following question: {question}\"\n",
    ")\n",
    "\n",
    "json_parser = SimpleJsonOutputParser()\n",
    "\n",
    "json_chain = json_prompt | chatModel | json_parser\n",
    "\n"
   ]
  },
  {
   "cell_type": "code",
   "execution_count": 15,
   "id": "5963a665-d22a-4517-b211-12c534d220a0",
   "metadata": {},
   "outputs": [],
   "source": [
    "response = json_chain.invoke({\"question\": \"What is the biggest country?\"})"
   ]
  },
  {
   "cell_type": "code",
   "execution_count": 16,
   "id": "148c37e9-88e4-4e8f-83f0-eaa1023fb980",
   "metadata": {},
   "outputs": [
    {
     "data": {
      "text/plain": [
       "{'answer': 'Russia is the biggest country by land area.'}"
      ]
     },
     "execution_count": 16,
     "metadata": {},
     "output_type": "execute_result"
    }
   ],
   "source": [
    "response"
   ]
  },
  {
   "cell_type": "code",
   "execution_count": null,
   "id": "23c86af0-f506-4701-9bef-f8f3add5c3cb",
   "metadata": {},
   "outputs": [],
   "source": []
  }
 ],
 "metadata": {
  "kernelspec": {
   "display_name": "poetry-env-mistral",
   "language": "python",
   "name": "poetry-env-mistral"
  },
  "language_info": {
   "codemirror_mode": {
    "name": "ipython",
    "version": 3
   },
   "file_extension": ".py",
   "mimetype": "text/x-python",
   "name": "python",
   "nbconvert_exporter": "python",
   "pygments_lexer": "ipython3",
   "version": "3.11.4"
  }
 },
 "nbformat": 4,
 "nbformat_minor": 5
}
