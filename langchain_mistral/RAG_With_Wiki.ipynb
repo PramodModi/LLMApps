{
 "cells": [
  {
   "cell_type": "code",
   "execution_count": 1,
   "id": "9e3bcd78-4d57-4895-bc54-ed9a33cb8432",
   "metadata": {},
   "outputs": [],
   "source": [
    "import os\n",
    "from dotenv import load_dotenv, find_dotenv\n",
    "_ = load_dotenv(find_dotenv())\n",
    "mistral_api_key = os.environ[\"MISTRAL_API_KEY\"]"
   ]
  },
  {
   "cell_type": "code",
   "execution_count": 2,
   "id": "61f6bc40-bcd8-4273-87ab-3be5ea539190",
   "metadata": {},
   "outputs": [],
   "source": [
    "from langchain_mistralai import ChatMistralAI\n",
    "\n",
    "chatModel = ChatMistralAI(\n",
    "    mistral_api_key=mistral_api_key,\n",
    "    model=\"mistral-large-latest\",\n",
    "    temperature=1,\n",
    "    max_retries=2,\n",
    "    # other params...\n",
    ")"
   ]
  },
  {
   "cell_type": "markdown",
   "id": "09acc957-eeb3-42f8-9f00-f3d010c770ca",
   "metadata": {},
   "source": [
    "## Load data from Wiki"
   ]
  },
  {
   "cell_type": "code",
   "execution_count": 3,
   "id": "8a52ce62-678f-433a-ba56-c621c578b2bb",
   "metadata": {},
   "outputs": [],
   "source": [
    "from langchain_community.document_loaders import WikipediaLoader\n",
    "\n",
    "loader = WikipediaLoader(query=\"Amitabh Bacchan\", load_max_docs=2)\n",
    "\n",
    "loaded_data = loader.load()"
   ]
  },
  {
   "cell_type": "code",
   "execution_count": 4,
   "id": "2e4e4cff-41da-469d-8631-c26e1a9d614f",
   "metadata": {},
   "outputs": [],
   "source": [
    "from langchain_text_splitters import CharacterTextSplitter\n",
    "from langchain_community.vectorstores import FAISS\n",
    "from langchain_huggingface import HuggingFaceEmbeddings"
   ]
  },
  {
   "cell_type": "markdown",
   "id": "2f5b50b0-6cdb-496f-ae39-69dba231d034",
   "metadata": {},
   "source": [
    "## Split the data"
   ]
  },
  {
   "cell_type": "code",
   "execution_count": 5,
   "id": "c7bb3eb1-c94a-46da-9f0c-fbc07be5378b",
   "metadata": {},
   "outputs": [
    {
     "name": "stderr",
     "output_type": "stream",
     "text": [
      "Created a chunk of size 2079, which is longer than the specified 1000\n"
     ]
    }
   ],
   "source": [
    "text_splitter = CharacterTextSplitter(chunk_size=1000, chunk_overlap=500)\n",
    "\n",
    "chunks_of_text = text_splitter.split_documents(loaded_data)\n"
   ]
  },
  {
   "cell_type": "markdown",
   "id": "823bf22d-da53-41e7-8688-49514af29579",
   "metadata": {},
   "source": [
    "### Use FAISS Vector Database"
   ]
  },
  {
   "cell_type": "code",
   "execution_count": 6,
   "id": "0e59cecc-5473-4ac8-be4c-fa27e2d22892",
   "metadata": {},
   "outputs": [
    {
     "name": "stderr",
     "output_type": "stream",
     "text": [
      "/Users/pramodmodi/Library/Caches/pypoetry/virtualenvs/langchain-mistral-xuCIEomg-py3.11/lib/python3.11/site-packages/sentence_transformers/cross_encoder/CrossEncoder.py:13: TqdmWarning: IProgress not found. Please update jupyter and ipywidgets. See https://ipywidgets.readthedocs.io/en/stable/user_install.html\n",
      "  from tqdm.autonotebook import tqdm, trange\n"
     ]
    }
   ],
   "source": [
    "vector_db = FAISS.from_documents(chunks_of_text, \n",
    "                                 embedding=HuggingFaceEmbeddings(model_name=\"all-MiniLM-L6-v2\"),\n",
    "                                )"
   ]
  },
  {
   "cell_type": "code",
   "execution_count": 7,
   "id": "7b3d959f-a91d-4bf4-992a-a8571e7b0d2a",
   "metadata": {},
   "outputs": [],
   "source": [
    "retriever = vector_db.as_retriever(search_kwargs={\"k\": 1})"
   ]
  },
  {
   "cell_type": "markdown",
   "id": "07f3c509-67a3-4652-bc41-37040dc17d88",
   "metadata": {},
   "source": [
    "### Use chain to pass context and question to llm and then parse the result"
   ]
  },
  {
   "cell_type": "code",
   "execution_count": null,
   "id": "6cdb79f5-1ccb-41cb-9a1b-0cca0e6d66e2",
   "metadata": {},
   "outputs": [],
   "source": [
    "from langchain_core.prompts import ChatPromptTemplate\n",
    "from langchain_core.output_parsers import StrOutputParser\n",
    "from langchain_core.runnables import RunnablePassthrough\n",
    "\n",
    "template = \"\"\"Answer the question based only on the following context:\n",
    "\n",
    "{context}\n",
    "\n",
    "Question: {question}\n",
    "\"\"\"\n",
    "\n",
    "prompt = ChatPromptTemplate.from_template(template)\n",
    "#chat_template = ChatPromptTemplate.from_messages(template)\n",
    "\n",
    "\n",
    "def format_docs(docs):\n",
    "    return \"\\n\\n\".join([d.page_content for d in docs])\n",
    "\n",
    "chain = (\n",
    "    {\"context\": retriever | format_docs, \"question\": RunnablePassthrough()}\n",
    "    | prompt\n",
    "    | chatModel\n",
    "    | StrOutputParser()\n",
    ")\n",
    "\n",
    "response = chain.invoke(\"When and where Mr Bacchan born?\")"
   ]
  },
  {
   "cell_type": "code",
   "execution_count": null,
   "id": "5888fd42-3287-4c1a-9999-78c9d1c95045",
   "metadata": {},
   "outputs": [],
   "source": [
    "response"
   ]
  },
  {
   "cell_type": "code",
   "execution_count": 62,
   "id": "5a97be28-fa00-4fc7-b778-597057b886be",
   "metadata": {},
   "outputs": [
    {
     "name": "stdout",
     "output_type": "stream",
     "text": [
      "Based on the context, some of the famous movies done by Amitabh Bachchan include:\n",
      "\n",
      "From the 1970s to 1980s:\n",
      "- Anand\n",
      "- Zanjeer\n",
      "- Roti Kapada Aur Makaan\n",
      "- Deewaar\n",
      "- Sholay\n",
      "- Kabhi Kabhie\n",
      "- Hera Pheri\n",
      "- Amar Akbar Anthony\n",
      "- Parvarish\n",
      "- Khoon Pasina\n",
      "- Kasme Vaade\n",
      "- Don\n",
      "- Trishul\n",
      "- Muqaddar Ka Sikandar\n",
      "- Suhaag\n",
      "- Dostana\n",
      "- Naseeb\n",
      "- Laawaris\n",
      "- Namak Halaal\n",
      "- Coolie\n",
      "- Sharaabi\n",
      "- Mard\n",
      "- Namak Haraam\n",
      "- Abhimaan\n",
      "- Majboor\n",
      "- Mili\n",
      "- Chupke Chupke\n",
      "- Kaala Patthar\n",
      "- Shaan\n",
      "- Silsila\n",
      "- Yaarana\n",
      "- Kaalia\n",
      "- Shakti\n",
      "- Aakhree Raasta\n",
      "- Agneepath\n",
      "- Hum\n",
      "\n",
      "From the 2000s onwards:\n",
      "- Mohabbatein\n",
      "- Kabhi Khushi Kabhie Gham\n",
      "- Aankhen\n",
      "- Baghban\n",
      "- Khakee\n",
      "- Black\n",
      "- Bunty Aur Babli\n",
      "- Sarkar\n",
      "- Kabhi Alvida Naa Kehna\n",
      "- Bhoothnath\n",
      "- Cheeni Kum\n",
      "- Paa\n",
      "- Piku\n",
      "- Pink\n",
      "- Badla\n",
      "- Brahmāstra: Part One – Shiva\n",
      "- Kalki 2898 AD\n",
      "\n",
      "He also appeared in the Hollywood film:\n",
      "- The Great Gatsby (2013)"
     ]
    }
   ],
   "source": [
    "query= \"What are famous movies done by Amitabh Bachhan?\"\n",
    "for chunk in chain.stream(query):\n",
    "    print(chunk, end=\"\", flush=True)"
   ]
  },
  {
   "cell_type": "code",
   "execution_count": null,
   "id": "ec9cc8f2-2170-4692-a433-8e6698acf8eb",
   "metadata": {},
   "outputs": [],
   "source": []
  }
 ],
 "metadata": {
  "kernelspec": {
   "display_name": "poetry-env-mistral",
   "language": "python",
   "name": "poetry-env-mistral"
  },
  "language_info": {
   "codemirror_mode": {
    "name": "ipython",
    "version": 3
   },
   "file_extension": ".py",
   "mimetype": "text/x-python",
   "name": "python",
   "nbconvert_exporter": "python",
   "pygments_lexer": "ipython3",
   "version": "3.11.4"
  }
 },
 "nbformat": 4,
 "nbformat_minor": 5
}
