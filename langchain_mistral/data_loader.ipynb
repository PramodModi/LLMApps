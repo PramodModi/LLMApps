{
 "cells": [
  {
   "cell_type": "code",
   "execution_count": null,
   "id": "7d08127b-d8b4-4a2b-806a-5066a7a8f82b",
   "metadata": {},
   "outputs": [],
   "source": []
  },
  {
   "cell_type": "code",
   "execution_count": 1,
   "id": "f372886f-eddf-4da3-9230-5549a6803323",
   "metadata": {},
   "outputs": [],
   "source": [
    "import os\n",
    "from dotenv import load_dotenv, find_dotenv\n",
    "_ = load_dotenv(find_dotenv())\n",
    "mistral_api_key = os.environ[\"MISTRAL_API_KEY\"]"
   ]
  },
  {
   "cell_type": "markdown",
   "id": "d4c03cb4-2adf-418e-a107-7d104ec84af9",
   "metadata": {},
   "source": [
    "### Check if your notebook open in right python environment/\n",
    "If not, then probably you missed to change the right Kernal\n",
    "\n",
    "    import sys\n",
    "    print(sys.executable)"
   ]
  },
  {
   "cell_type": "code",
   "execution_count": 3,
   "id": "f5a423ce-98ca-4374-bf58-487fb1109169",
   "metadata": {},
   "outputs": [],
   "source": [
    "from langchain_mistralai import ChatMistralAI\n",
    "\n",
    "chatModel = ChatMistralAI(\n",
    "    mistral_api_key=mistral_api_key,\n",
    "    model=\"mistral-large-latest\",\n",
    "    temperature=1,\n",
    "    max_retries=2,\n",
    "    # other params...\n",
    ")"
   ]
  },
  {
   "cell_type": "markdown",
   "id": "4ea0d83e-8ec9-4509-b9b9-634631019d8b",
   "metadata": {},
   "source": [
    "## Load data from wiki"
   ]
  },
  {
   "cell_type": "code",
   "execution_count": 4,
   "id": "01c57705-3843-44b7-b3ba-8e0534860687",
   "metadata": {},
   "outputs": [],
   "source": [
    "from langchain_community.document_loaders import WikipediaLoader\n",
    "\n",
    "loader = WikipediaLoader('query=name, load_max_docs=1')\n",
    "\n",
    "loaded_data = loader.load()[0].page_content"
   ]
  },
  {
   "cell_type": "code",
   "execution_count": 5,
   "id": "cf829b34-00b4-4b02-b292-74aeac98ff22",
   "metadata": {},
   "outputs": [],
   "source": [
    "from langchain_core.prompts import ChatPromptTemplate\n",
    "\n",
    "chat_template = ChatPromptTemplate.from_messages(\n",
    "    [\n",
    "        (\"human\", \"Answer this {question}, here is some extra {context}\"),\n",
    "    ]\n",
    ")\n",
    "\n",
    "messages = chat_template.format_messages(\n",
    "    name=\"Amitabh Bachchan\",\n",
    "    question=\"When and Where was Mr Bacchan born? Also tell me hos early career\",\n",
    "    context=loaded_data\n",
    ")\n"
   ]
  },
  {
   "cell_type": "code",
   "execution_count": 6,
   "id": "0326a756-eadb-466a-abb8-c07c1cabb117",
   "metadata": {},
   "outputs": [],
   "source": [
    "response = chatModel.invoke(messages)"
   ]
  },
  {
   "cell_type": "code",
   "execution_count": 7,
   "id": "28c39d1c-dd48-411f-b942-02d84d738b79",
   "metadata": {},
   "outputs": [
    {
     "data": {
      "text/plain": [
       "'**Amitabh Bachchan Birth Details and Early Career:**\\n\\n**Birth Details:**\\n- **When:** October 11, 1942\\n- **Where:** Allahabad, United Provinces, British India (now Prayagraj, Uttar Pradesh, India)\\n\\n**Early Career:**\\n- Amitabh Bachchan initially tried to get a job in radio but was rejected by All India Radio.\\n- He started his career in the film industry as a voice narrator in the 1969 film *Bhuvan Shome*.\\n- His first acting role was in the 1969 film *Saat Hindustani*, directed by Khwaja Ahmad Abbas, where he played one of the seven protagonists.\\n- Bachchan gained popularity with the 1973 film *Zanjeer*, directed by Prakash Mehra, where he played the role of Inspector Vijay Khanna. This film marked the birth of his \"angry young man\" persona.\\n- His performances in films like *Deewaar* (1975) and *Sholay* (1975) further cemented his status as a rising star in Bollywood.\\n\\nThe provided text about HTTP cookies is informative but does not relate to Mr. Bachchan\\'s birth or career. If you have any other questions or need further information, feel free to ask!'"
      ]
     },
     "execution_count": 7,
     "metadata": {},
     "output_type": "execute_result"
    }
   ],
   "source": [
    "response.content"
   ]
  },
  {
   "cell_type": "code",
   "execution_count": 28,
   "id": "8890ff27-023b-4ceb-9300-8c03a53baf3a",
   "metadata": {},
   "outputs": [
    {
     "name": "stdout",
     "output_type": "stream",
     "text": [
      "### Amitabh Bachchan Biography\n",
      "\n",
      "#### When and Where Was Amitabh Bachchan Born?\n",
      "\n",
      "Amitabh Bachchan was born on October 11, 1942, in Allahabad, United Provinces, British India (now Prayagraj, Uttar Pradesh, India).\n",
      "\n",
      "#### Early Career\n",
      "\n",
      "Amitabh Bachchan began his career as an actor in the Bollywood film industry. His first film appearance was in the movie \"Saat Hindustani\" in 1969. However, his breakthrough role came with the film \"Zanjeer\" in 1973, where he played the iconic character of Inspector Vijay Khanna. This role established him as the 'angry young man' of Indian cinema and launched him into stardom.\n",
      "\n",
      "Throughout the 1970s and 1980s, Amitabh Bachchan starred in numerous critically acclaimed and commercially successful films such as \"Deewaar,\" \"Sholay,\" \"Don,\" \"Trishul,\" \"Namak Haraam,\" and many others. His powerful performances and unique style made him one of the most influential and popular actors in the history of Indian cinema.\n",
      "\n",
      "Bachchan's versatility and ability to portray a wide range of characters have made him a legendary figure. He has won numerous awards, including four National Film Awards and multiple Filmfare Awards. His contributions to the film industry have been recognized with various honors, including the Padma Shri, Padma Bhushan, and Padma Vibhushan—India's highest civilian honors.\n",
      "\n",
      "Amitabh Bachchan's impact extends beyond acting, as he has also been involved in politics, entrepreneurship, and philanthropy. He is revered not just in India but globally for his contributions to cinema and society."
     ]
    }
   ],
   "source": [
    "for chunk in chatModel.stream(messages):\n",
    "    print(chunk.content, end=\"\", flush=True)"
   ]
  },
  {
   "cell_type": "code",
   "execution_count": null,
   "id": "3ce7a122-65ab-4567-9f71-e048b72b95da",
   "metadata": {},
   "outputs": [],
   "source": []
  }
 ],
 "metadata": {
  "kernelspec": {
   "display_name": "poetry-env-mistral",
   "language": "python",
   "name": "poetry-env-mistral"
  },
  "language_info": {
   "codemirror_mode": {
    "name": "ipython",
    "version": 3
   },
   "file_extension": ".py",
   "mimetype": "text/x-python",
   "name": "python",
   "nbconvert_exporter": "python",
   "pygments_lexer": "ipython3",
   "version": "3.11.4"
  }
 },
 "nbformat": 4,
 "nbformat_minor": 5
}
