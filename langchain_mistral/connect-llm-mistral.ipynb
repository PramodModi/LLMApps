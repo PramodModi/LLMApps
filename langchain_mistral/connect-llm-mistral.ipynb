{
 "cells": [
  {
   "cell_type": "markdown",
   "id": "465c003a-29cf-4cfe-a0c6-d36c04ae2b37",
   "metadata": {},
   "source": [
    "# Connect with an Mistral LLM\n"
   ]
  },
  {
   "cell_type": "markdown",
   "id": "c759d27a-94f3-4141-945d-065f2095bffd",
   "metadata": {
    "jp-MarkdownHeadingCollapsed": true
   },
   "source": [
    "## Intro\n",
    "* Input: the prompt we send to the LLM.\n",
    "* Output: the response from the LLM.\n",
    "* We can switch LLMs and use several different LLMs."
   ]
  },
  {
   "cell_type": "markdown",
   "id": "8332b6e9-8164-4859-879c-f021a4dfd69d",
   "metadata": {},
   "source": [
    "## LangChain divides LLMs in two types\n",
    "1. LLM Model: text-completion model.\n",
    "2. Chat Model: converses with a sequence of messages and can have a particular role defined (system prompt). This type has become the most used in LangChain.\n"
   ]
  },
  {
   "cell_type": "markdown",
   "id": "de42a3ca-fc4d-4b91-b3bc-a7304ec4d5f8",
   "metadata": {},
   "source": [
    "## See the differences\n",
    "* Even when sometimes the LangChain documentation can be confusing about it, the fact is that text-completion models and Chat models are both LLMs.\n",
    "* But, as you can see in this [playground](https://platform.openai.com/playground/chat?models=gpt-4o), they have some significant differences. See that the chat models in LangChain have system messages, human messages (called \"user messages\" by OpenAI) and AI messages (called \"Assitant Messages\" by OpenAI).\n",
    "* Since the launch of chatGPT, the Chat Model is the most popular LLM type and is used in most LLM apps."
   ]
  },
  {
   "cell_type": "markdown",
   "id": "5a2f9501-fa9e-4830-95e2-537dff951cf1",
   "metadata": {},
   "source": [
    "## List of LLMs that can work with LangChain\n",
    "* See the list [here](https://python.langchain.com/v0.1/docs/integrations/llms/)."
   ]
  },
  {
   "cell_type": "markdown",
   "id": "be46161e-45e9-46d7-8214-bcbea10aff2e",
   "metadata": {},
   "source": [
    "## Setup"
   ]
  },
  {
   "cell_type": "markdown",
   "id": "871e0018-cba4-4959-881a-0a65093d202d",
   "metadata": {},
   "source": [
    "#### After you download the code from the github repository in your computer\n",
    "In terminal:\n",
    "* cd project_name\n",
    "* pyenv local 3.11.4\n",
    "* poetry install\n",
    "* poetry shell"
   ]
  },
  {
   "cell_type": "markdown",
   "id": "80616acf-ae85-4226-ba19-dbbbb9d4796f",
   "metadata": {},
   "source": [
    "#### To open the notebook with Jupyter Notebooks\n",
    "In poetry shell terminal, run following command:\n",
    "* poetry add ipykernel\n",
    "* poetry run python -m ipykernel install --user --name=poetry-env-mistral --display-name \"Poetry-env-mistral\"\n",
    "* * --name = <give your name>, --display-name = <give your display name>\n",
    "* poetry run jupyter notebook\n",
    "* Open a notebook and Change kernal to display name (Poetry-env-mistral)\n"
   ]
  },
  {
   "cell_type": "markdown",
   "id": "af743328-1bc8-4b01-85fb-fcb21c6499c2",
   "metadata": {},
   "source": [
    "## Create your .env file\n",
    "* In the github repo we have included a file named .env.example\n",
    "* Rename that file to .env file and here is where you will add your confidential api keys. Remember to include:\n",
    "* OPENAI_API_KEY=your_openai_api_key\n",
    "* LANGCHAIN_TRACING_V2=true\n",
    "* LANGCHAIN_ENDPOINT=https://api.smith.langchain.com\n",
    "* LANGCHAIN_API_KEY=your_langchain_api_key\n",
    "* * This is Langsmith api key\n",
    "* LANGCHAIN_PROJECT=your_project_name"
   ]
  },
  {
   "cell_type": "markdown",
   "id": "a2746c97-9fa5-481c-8333-21de1504a087",
   "metadata": {},
   "source": [
    "## Track operations\n",
    "From now on, we can track the operations **and the cost** of this project from LangSmith:\n",
    "* [smith.langchain.com](https://smith.langchain.com)"
   ]
  },
  {
   "cell_type": "markdown",
   "id": "de4ba351-2cfb-4b93-9c79-3c1100e2e291",
   "metadata": {},
   "source": [
    "## Connect with the .env file located in the same directory of this notebook"
   ]
  },
  {
   "cell_type": "markdown",
   "id": "36eaf7e9-acf2-4729-b54c-a8fb6ad2ae1a",
   "metadata": {},
   "source": [
    "If you are using the pre-loaded poetry shell, you do not need to install the following package because it is already pre-loaded for you:"
   ]
  },
  {
   "cell_type": "code",
   "execution_count": 3,
   "id": "e9a10870-432e-4818-aa5e-6be24c579d39",
   "metadata": {},
   "outputs": [],
   "source": [
    "#pip install python-dotenv"
   ]
  },
  {
   "cell_type": "code",
   "execution_count": 1,
   "id": "fecd39d0-e72e-4bc2-8a68-2fa4008ea365",
   "metadata": {},
   "outputs": [],
   "source": [
    "import os\n",
    "from dotenv import load_dotenv, find_dotenv\n",
    "_ = load_dotenv(find_dotenv())\n",
    "mistral_api_key = os.environ[\"MISTRAL_API_KEY\"]"
   ]
  },
  {
   "cell_type": "markdown",
   "id": "03f4a923-b19e-498e-9be5-e47ec4a77d80",
   "metadata": {},
   "source": [
    "#### Install LangChain"
   ]
  },
  {
   "cell_type": "markdown",
   "id": "6fa888f7-3718-4829-8645-30acb43db51f",
   "metadata": {},
   "source": [
    "If you are using the pre-loaded poetry shell, you do not need to install the following package because it is already pre-loaded for you:"
   ]
  },
  {
   "cell_type": "code",
   "execution_count": 5,
   "id": "c1cf94ae-6c39-4475-9c5b-4b74d8d78753",
   "metadata": {},
   "outputs": [],
   "source": [
    "#!pip install langchain"
   ]
  },
  {
   "cell_type": "markdown",
   "id": "189e9e17-dfb0-4fd3-85b9-1fba83771941",
   "metadata": {},
   "source": [
    "## Connect with an LLM"
   ]
  },
  {
   "cell_type": "markdown",
   "id": "05cc6a88-4f4d-485e-a99a-cad5e02fdc11",
   "metadata": {},
   "source": [
    "### Check if your notebook open in right python environment/\n",
    "If not, then probably you missed to change the right Kernal\n",
    "\n",
    "    import sys\n",
    "    print(sys.executable)"
   ]
  },
  {
   "cell_type": "markdown",
   "id": "fbf1d17b-6d15-423b-b554-26d6d977ca27",
   "metadata": {},
   "source": [
    "## LLM Model\n",
    "* See LangChain documentation about LLM Models [here](https://python.langchain.com/v0.1/docs/modules/model_io/llms/)."
   ]
  },
  {
   "cell_type": "code",
   "execution_count": 2,
   "id": "8287ac5b-1a0d-4886-a1bc-0ec81e22f981",
   "metadata": {},
   "outputs": [],
   "source": [
    "from langchain_mistralai import ChatMistralAI\n",
    "\n",
    "llmModel = ChatMistralAI(\n",
    "    mistral_api_key=mistral_api_key,\n",
    "    model=\"mistral-large-latest\",\n",
    "    temperature=0,\n",
    "    max_retries=2,\n",
    "    # other params...\n",
    ")"
   ]
  },
  {
   "cell_type": "code",
   "execution_count": 3,
   "id": "0c100d48-e5bd-4558-b765-0903aac4f413",
   "metadata": {},
   "outputs": [
    {
     "data": {
      "text/plain": [
       "AIMessage(content=\"J'adore la programmation.\", additional_kwargs={}, response_metadata={'token_usage': {'prompt_tokens': 27, 'total_tokens': 36, 'completion_tokens': 9}, 'model': 'mistral-large-latest', 'finish_reason': 'stop'}, id='run-4b9d26fd-56fc-439b-925c-31f5908deef4-0', usage_metadata={'input_tokens': 27, 'output_tokens': 9, 'total_tokens': 36})"
      ]
     },
     "execution_count": 3,
     "metadata": {},
     "output_type": "execute_result"
    }
   ],
   "source": [
    "\n",
    "messages = [\n",
    "    (\n",
    "        \"system\",\n",
    "        \"You are a helpful assistant that translates English to French. Translate the user sentence.\",\n",
    "    ),\n",
    "    (\"human\", \"I love programming.\"),\n",
    "]\n",
    "ai_msg = llmModel.invoke(messages)\n",
    "ai_msg"
   ]
  },
  {
   "cell_type": "markdown",
   "id": "bdeaf300-5cb6-4df8-bcb9-1fe3c82e4b22",
   "metadata": {},
   "source": [
    "#### Invoke: all the text of the reponse is printed at once."
   ]
  },
  {
   "cell_type": "code",
   "execution_count": 4,
   "id": "16f9691e-2a3c-456d-b3ec-d09e83b60330",
   "metadata": {},
   "outputs": [
    {
     "data": {
      "text/plain": [
       "AIMessage(content=\"The Prime Minister of India is the head of the government of the Republic of India. Here are some key points about the role, responsibilities, and history of the position:\\n\\n1. **Role and Responsibilities**:\\n   - The Prime Minister is the chief advisor to the President of India and the head of the Council of Ministers.\\n   - They are responsible for aiding and advising the President in the exercise of their functions.\\n   - The Prime Minister is the chief spokesperson of the government in the Parliament.\\n   - They are responsible for the general administration of the government and for implementing domestic and foreign policies.\\n\\n2. **Appointment**:\\n   - The Prime Minister is appointed by the President, but they must enjoy the support of the majority of the members of the Lok Sabha (the lower house of the Parliament).\\n   - Usually, the leader of the political party or coalition that has a majority in the Lok Sabha is appointed as the Prime Minister.\\n\\n3. **Term**:\\n   - The term of the Prime Minister is not fixed. They hold office until they resign, or until they are removed by the President (on the advice of the Council of Ministers), or until their party loses a vote of confidence in the Lok Sabha.\\n\\n4. **History**:\\n   - Jawaharlal Nehru was the first Prime Minister of India, serving from 1947 to 1964.\\n   - Indira Gandhi, who served from 1966 to 1977 and again from 1980 until her assassination in 1984, is the longest-serving Prime Minister.\\n   - The current Prime Minister is Narendra Modi, who has been in office since 2014.\\n\\n5. **Official Residence**:\\n   - The official residence of the Prime Minister is 7, Lok Kalyan Marg (formerly 7, Race Course Road), New Delhi.\\n\\n6. **Departments and Agencies**:\\n   - The Prime Minister's Office (PMO) assists the Prime Minister in their duties. It is a part of the Government of India and is one of the most important departments.\\n\\n7. **Salary**:\\n   - The salary of the Prime Minister is determined by the Parliament of India. As of 2021, the Prime Minister's salary is INR 160,000 per month, plus other allowances.\\n\\nFor the latest information, it's always a good idea to check official government resources or reliable news sources.\", additional_kwargs={}, response_metadata={'token_usage': {'prompt_tokens': 11, 'total_tokens': 576, 'completion_tokens': 565}, 'model': 'mistral-large-latest', 'finish_reason': 'stop'}, id='run-bc7540c5-1c36-4d94-ad7f-e2ce95998b17-0', usage_metadata={'input_tokens': 11, 'output_tokens': 565, 'total_tokens': 576})"
      ]
     },
     "execution_count": 4,
     "metadata": {},
     "output_type": "execute_result"
    }
   ],
   "source": [
    "ai_msg = llmModel.invoke(\"Tell me more about Prime minister of India\")\n",
    "ai_msg"
   ]
  },
  {
   "cell_type": "code",
   "execution_count": 6,
   "id": "93ade5fa-b487-4f32-bda7-0f9c41b096b5",
   "metadata": {},
   "outputs": [],
   "source": [
    "response = llmModel.invoke(\n",
    "    \"Tell me one fun fact about the Kennedy family.\"\n",
    ")"
   ]
  },
  {
   "cell_type": "code",
   "execution_count": 7,
   "id": "a33285ef-4bb5-4fd6-9894-790c07a5468c",
   "metadata": {},
   "outputs": [
    {
     "data": {
      "text/plain": [
       "AIMessage(content='One fun fact about the Kennedy family is that they were once given a gift of a pony named Macaroni by President Lyndon B. Johnson. The pony was a surprise gift for Caroline Kennedy, the daughter of President John F. Kennedy, and was delivered to the White House lawn. The pony became a beloved pet of the family and was often seen grazing on the White House grounds during the Kennedy administration.', additional_kwargs={}, response_metadata={'token_usage': {'prompt_tokens': 13, 'total_tokens': 100, 'completion_tokens': 87}, 'model': 'mistral-large-latest', 'finish_reason': 'stop'}, id='run-c0774480-f7c5-4aa1-aace-7317c9d71518-0', usage_metadata={'input_tokens': 13, 'output_tokens': 87, 'total_tokens': 100})"
      ]
     },
     "execution_count": 7,
     "metadata": {},
     "output_type": "execute_result"
    }
   ],
   "source": [
    "response"
   ]
  },
  {
   "cell_type": "code",
   "execution_count": 8,
   "id": "3aa71043-4707-44b4-8d1f-8540d5d139b2",
   "metadata": {},
   "outputs": [
    {
     "name": "stdout",
     "output_type": "stream",
     "text": [
      "One fun fact about the Kennedy family is that they were once given a gift of a pony named Macaroni by President Lyndon B. Johnson. The pony was a surprise gift for Caroline Kennedy, the daughter of President John F. Kennedy, and was delivered to the White House lawn. The pony became a beloved pet of the family and was often seen grazing on the White House grounds during the Kennedy administration.\n"
     ]
    }
   ],
   "source": [
    "print(response.content)"
   ]
  },
  {
   "cell_type": "markdown",
   "id": "9b4c29ae-d60a-44c7-925c-20084c0b941e",
   "metadata": {},
   "source": [
    "#### Streaming: printing one chunk of text at a time"
   ]
  },
  {
   "cell_type": "code",
   "execution_count": 9,
   "id": "158aa111-9167-444c-9b10-90b095eac390",
   "metadata": {},
   "outputs": [
    {
     "name": "stdout",
     "output_type": "stream",
     "text": [
      "One fun fact about the Kennedy family is that they were once given a gift of a pony named Macaroni by President Lyndon B. Johnson. The pony was a surprise gift for Caroline Kennedy, the daughter of President John F. Kennedy, and was delivered to the White House lawn. The pony became a beloved pet of the family and was often seen grazing on the White House grounds during the Kennedy administration."
     ]
    }
   ],
   "source": [
    "for chunk in llmModel.stream(\n",
    "    \"Tell me one fun fact about the Kennedy family.\"\n",
    "):\n",
    "    print(chunk.content, end=\"\", flush=True)"
   ]
  },
  {
   "cell_type": "markdown",
   "id": "31346a0c-ee9c-4a80-8e8a-85ef682df7c3",
   "metadata": {},
   "source": [
    "## Chat Model\n",
    "* The general trend after the launch of chatGPT-4.\n",
    "    * Frequently known as \"Chatbot\". \n",
    "    * Conversation between Human and AI.\n",
    "    * Can have a system prompt defining the tone or the role of the AI. \n",
    "* See LangChain documentation about Chat Models [here](https://python.langchain.com/v0.1/docs/modules/model_io/chat/).\n",
    "* By default we will work with ChatOpenAI. See [here](https://python.langchain.com/v0.1/docs/integrations/chat/openai/) the LangChain documentation page about it."
   ]
  },
  {
   "cell_type": "code",
   "execution_count": 10,
   "id": "0eaa967e-067f-4574-8cbc-b1e5b7956fa2",
   "metadata": {},
   "outputs": [],
   "source": [
    "messages = [\n",
    "    (\"system\", \"You are an historian expert in the Kennedy family.\"),\n",
    "    (\"human\", \"Tell me one curious thing about JFK.\"),\n",
    "]\n",
    "response = llmModel.invoke(messages)"
   ]
  },
  {
   "cell_type": "code",
   "execution_count": 11,
   "id": "2f567f5a-c4ea-4234-84e6-422bf6104589",
   "metadata": {},
   "outputs": [
    {
     "data": {
      "text/plain": [
       "AIMessage(content='Certainly! One curious thing about John F. Kennedy (JFK) is his love for James Bond novels and his influence on the character\\'s popularity in the United States. JFK was a fan of Ian Fleming\\'s James Bond series and listed \"From Russia with Love\" as one of his favorite books. This endorsement significantly boosted the popularity of the Bond novels in the U.S. and helped pave the way for the successful film franchise. In fact, the Bond films became so popular that they are often seen as a reflection of the cultural zeitgeist of the 1960s, a period often associated with JFK\\'s presidency.', additional_kwargs={}, response_metadata={'token_usage': {'prompt_tokens': 25, 'total_tokens': 169, 'completion_tokens': 144}, 'model': 'mistral-large-latest', 'finish_reason': 'stop'}, id='run-940241d2-62bb-408c-9fde-92aeac9bb412-0', usage_metadata={'input_tokens': 25, 'output_tokens': 144, 'total_tokens': 169})"
      ]
     },
     "execution_count": 11,
     "metadata": {},
     "output_type": "execute_result"
    }
   ],
   "source": [
    "response"
   ]
  },
  {
   "cell_type": "code",
   "execution_count": 12,
   "id": "19a6abd4-a072-47ea-ae60-7959def9b602",
   "metadata": {},
   "outputs": [
    {
     "data": {
      "text/plain": [
       "'Certainly! One curious thing about John F. Kennedy (JFK) is his love for James Bond novels and his influence on the character\\'s popularity in the United States. JFK was a fan of Ian Fleming\\'s James Bond series and listed \"From Russia with Love\" as one of his favorite books. This endorsement significantly boosted the popularity of the Bond novels in the U.S. and helped pave the way for the successful film franchise. In fact, the Bond films became so popular that they are often seen as a reflection of the cultural zeitgeist of the 1960s, a period often associated with JFK\\'s presidency.'"
      ]
     },
     "execution_count": 12,
     "metadata": {},
     "output_type": "execute_result"
    }
   ],
   "source": [
    "response.content"
   ]
  },
  {
   "cell_type": "code",
   "execution_count": 13,
   "id": "47927ac1-13bc-40eb-9917-9d39418f0f7d",
   "metadata": {},
   "outputs": [
    {
     "data": {
      "text/plain": [
       "{'token_usage': {'prompt_tokens': 25,\n",
       "  'total_tokens': 169,\n",
       "  'completion_tokens': 144},\n",
       " 'model': 'mistral-large-latest',\n",
       " 'finish_reason': 'stop'}"
      ]
     },
     "execution_count": 13,
     "metadata": {},
     "output_type": "execute_result"
    }
   ],
   "source": [
    "response.response_metadata"
   ]
  },
  {
   "cell_type": "code",
   "execution_count": 14,
   "id": "7847143f-3179-423e-b499-a6e494967741",
   "metadata": {},
   "outputs": [
    {
     "data": {
      "text/plain": [
       "{'$defs': {'InputTokenDetails': {'description': 'Breakdown of input token counts.\\n\\nDoes *not* need to sum to full input token count. Does *not* need to have all keys.\\n\\nExample:\\n\\n    .. code-block:: python\\n\\n        {\\n            \"audio\": 10,\\n            \"cache_creation\": 200,\\n            \"cache_read\": 100,\\n        }\\n\\n.. versionadded:: 0.3.9',\n",
       "   'properties': {'audio': {'title': 'Audio', 'type': 'integer'},\n",
       "    'cache_creation': {'title': 'Cache Creation', 'type': 'integer'},\n",
       "    'cache_read': {'title': 'Cache Read', 'type': 'integer'}},\n",
       "   'title': 'InputTokenDetails',\n",
       "   'type': 'object'},\n",
       "  'InvalidToolCall': {'description': 'Allowance for errors made by LLM.\\n\\nHere we add an `error` key to surface errors made during generation\\n(e.g., invalid JSON arguments.)',\n",
       "   'properties': {'name': {'anyOf': [{'type': 'string'}, {'type': 'null'}],\n",
       "     'title': 'Name'},\n",
       "    'args': {'anyOf': [{'type': 'string'}, {'type': 'null'}], 'title': 'Args'},\n",
       "    'id': {'anyOf': [{'type': 'string'}, {'type': 'null'}], 'title': 'Id'},\n",
       "    'error': {'anyOf': [{'type': 'string'}, {'type': 'null'}],\n",
       "     'title': 'Error'},\n",
       "    'type': {'const': 'invalid_tool_call',\n",
       "     'enum': ['invalid_tool_call'],\n",
       "     'title': 'Type',\n",
       "     'type': 'string'}},\n",
       "   'required': ['name', 'args', 'id', 'error'],\n",
       "   'title': 'InvalidToolCall',\n",
       "   'type': 'object'},\n",
       "  'OutputTokenDetails': {'description': 'Breakdown of output token counts.\\n\\nDoes *not* need to sum to full output token count. Does *not* need to have all keys.\\n\\nExample:\\n\\n    .. code-block:: python\\n\\n        {\\n            \"audio\": 10,\\n            \"reasoning\": 200,\\n        }\\n\\n.. versionadded:: 0.3.9',\n",
       "   'properties': {'audio': {'title': 'Audio', 'type': 'integer'},\n",
       "    'reasoning': {'title': 'Reasoning', 'type': 'integer'}},\n",
       "   'title': 'OutputTokenDetails',\n",
       "   'type': 'object'},\n",
       "  'ToolCall': {'description': 'Represents a request to call a tool.\\n\\nExample:\\n\\n    .. code-block:: python\\n\\n        {\\n            \"name\": \"foo\",\\n            \"args\": {\"a\": 1},\\n            \"id\": \"123\"\\n        }\\n\\n    This represents a request to call the tool named \"foo\" with arguments {\"a\": 1}\\n    and an identifier of \"123\".',\n",
       "   'properties': {'name': {'title': 'Name', 'type': 'string'},\n",
       "    'args': {'title': 'Args', 'type': 'object'},\n",
       "    'id': {'anyOf': [{'type': 'string'}, {'type': 'null'}], 'title': 'Id'},\n",
       "    'type': {'const': 'tool_call',\n",
       "     'enum': ['tool_call'],\n",
       "     'title': 'Type',\n",
       "     'type': 'string'}},\n",
       "   'required': ['name', 'args', 'id'],\n",
       "   'title': 'ToolCall',\n",
       "   'type': 'object'},\n",
       "  'UsageMetadata': {'description': 'Usage metadata for a message, such as token counts.\\n\\nThis is a standard representation of token usage that is consistent across models.\\n\\nExample:\\n\\n    .. code-block:: python\\n\\n        {\\n            \"input_tokens\": 350,\\n            \"output_tokens\": 240,\\n            \"total_tokens\": 590,\\n            \"input_token_details\": {\\n                \"audio\": 10,\\n                \"cache_creation\": 200,\\n                \"cache_read\": 100,\\n            },\\n            \"output_token_details\": {\\n                \"audio\": 10,\\n                \"reasoning\": 200,\\n            }\\n        }\\n\\n.. versionchanged:: 0.3.9\\n\\n    Added ``input_token_details`` and ``output_token_details``.',\n",
       "   'properties': {'input_tokens': {'title': 'Input Tokens', 'type': 'integer'},\n",
       "    'output_tokens': {'title': 'Output Tokens', 'type': 'integer'},\n",
       "    'total_tokens': {'title': 'Total Tokens', 'type': 'integer'},\n",
       "    'input_token_details': {'$ref': '#/$defs/InputTokenDetails'},\n",
       "    'output_token_details': {'$ref': '#/$defs/OutputTokenDetails'}},\n",
       "   'required': ['input_tokens', 'output_tokens', 'total_tokens'],\n",
       "   'title': 'UsageMetadata',\n",
       "   'type': 'object'}},\n",
       " 'additionalProperties': True,\n",
       " 'description': 'Message from an AI.\\n\\nAIMessage is returned from a chat model as a response to a prompt.\\n\\nThis message represents the output of the model and consists of both\\nthe raw output as returned by the model together standardized fields\\n(e.g., tool calls, usage metadata) added by the LangChain framework.',\n",
       " 'properties': {'content': {'anyOf': [{'type': 'string'},\n",
       "    {'items': {'anyOf': [{'type': 'string'}, {'type': 'object'}]},\n",
       "     'type': 'array'}],\n",
       "   'title': 'Content'},\n",
       "  'additional_kwargs': {'title': 'Additional Kwargs', 'type': 'object'},\n",
       "  'response_metadata': {'title': 'Response Metadata', 'type': 'object'},\n",
       "  'type': {'const': 'ai',\n",
       "   'default': 'ai',\n",
       "   'enum': ['ai'],\n",
       "   'title': 'Type',\n",
       "   'type': 'string'},\n",
       "  'name': {'anyOf': [{'type': 'string'}, {'type': 'null'}],\n",
       "   'default': None,\n",
       "   'title': 'Name'},\n",
       "  'id': {'anyOf': [{'type': 'string'}, {'type': 'null'}],\n",
       "   'default': None,\n",
       "   'title': 'Id'},\n",
       "  'example': {'default': False, 'title': 'Example', 'type': 'boolean'},\n",
       "  'tool_calls': {'default': [],\n",
       "   'items': {'$ref': '#/$defs/ToolCall'},\n",
       "   'title': 'Tool Calls',\n",
       "   'type': 'array'},\n",
       "  'invalid_tool_calls': {'default': [],\n",
       "   'items': {'$ref': '#/$defs/InvalidToolCall'},\n",
       "   'title': 'Invalid Tool Calls',\n",
       "   'type': 'array'},\n",
       "  'usage_metadata': {'anyOf': [{'$ref': '#/$defs/UsageMetadata'},\n",
       "    {'type': 'null'}],\n",
       "   'default': None}},\n",
       " 'required': ['content'],\n",
       " 'title': 'AIMessage',\n",
       " 'type': 'object'}"
      ]
     },
     "execution_count": 14,
     "metadata": {},
     "output_type": "execute_result"
    }
   ],
   "source": [
    "response.schema()"
   ]
  },
  {
   "cell_type": "markdown",
   "id": "54631efb-dbe2-4bd7-b588-324f19a28b2c",
   "metadata": {},
   "source": [
    "#### Before the previous one, the old way (but still very popular) of doing this was:"
   ]
  },
  {
   "cell_type": "code",
   "execution_count": 15,
   "id": "a20ba943-ce6b-45e2-9dbb-351c48421069",
   "metadata": {},
   "outputs": [],
   "source": [
    "from langchain_core.messages import HumanMessage, SystemMessage\n",
    "from langchain_core.prompts import ChatPromptTemplate"
   ]
  },
  {
   "cell_type": "code",
   "execution_count": 16,
   "id": "b879a5f4-2250-4a70-b065-7796c4fe9f06",
   "metadata": {},
   "outputs": [],
   "source": [
    "messages = [\n",
    "    SystemMessage(content=\"You are an historian expert on the Kennedy Family.\"),\n",
    "    HumanMessage(content=\"How many children had Joseph P. Kennedy?\"),\n",
    "]\n",
    "\n",
    "response = llmModel.invoke(messages)"
   ]
  },
  {
   "cell_type": "code",
   "execution_count": 17,
   "id": "78f9b26b-e7e1-4613-8e3e-0c81f8b54da6",
   "metadata": {},
   "outputs": [
    {
     "data": {
      "text/plain": [
       "AIMessage(content='Joseph P. Kennedy Sr. and his wife Rose Fitzgerald Kennedy had nine children. Here they are in order of birth:\\n\\n1. Joseph P. Kennedy Jr. (1915-1944)\\n2. John F. Kennedy (1917-1963)\\n3. Rosemary Kennedy (1918-2005)\\n4. Kathleen \"Kick\" Kennedy (1920-1948)\\n5. Eunice Kennedy Shriver (1921-2009)\\n6. Patricia \"Pat\" Kennedy Lawford (1924-2006)\\n7. Robert F. Kennedy (1925-1968)\\n8. Jean Kennedy Smith (1928-2020)\\n9. Edward \"Ted\" Kennedy (1932-2009)\\n\\nThe Kennedy family is known for their political involvement and public service, with the most notable figures being John F. Kennedy, who served as the 35th President of the United States, and Robert F. Kennedy, who served as Attorney General and was a U.S. Senator.', additional_kwargs={}, response_metadata={'token_usage': {'prompt_tokens': 24, 'total_tokens': 285, 'completion_tokens': 261}, 'model': 'mistral-large-latest', 'finish_reason': 'stop'}, id='run-1d953da2-24e0-43f7-a7c9-41d10aa836b1-0', usage_metadata={'input_tokens': 24, 'output_tokens': 261, 'total_tokens': 285})"
      ]
     },
     "execution_count": 17,
     "metadata": {},
     "output_type": "execute_result"
    }
   ],
   "source": [
    "response"
   ]
  },
  {
   "cell_type": "markdown",
   "id": "e41204f4-0cec-4039-a18d-2a25b9dd5efd",
   "metadata": {},
   "source": [
    "#### Streaming:"
   ]
  },
  {
   "cell_type": "code",
   "execution_count": 18,
   "id": "83d9f1d0-bba8-4885-9ac1-01fc273732b1",
   "metadata": {},
   "outputs": [
    {
     "name": "stdout",
     "output_type": "stream",
     "text": [
      "Joseph P. Kennedy Sr. and his wife Rose Fitzgerald Kennedy had nine children. Here they are in order of birth:\n",
      "\n",
      "1. Joseph P. Kennedy Jr. (1915-1944)\n",
      "2. John F. Kennedy (1917-1963)\n",
      "3. Rosemary Kennedy (1918-2005)\n",
      "4. Kathleen \"Kick\" Kennedy (1920-1948)\n",
      "5. Eunice Kennedy Shriver (1921-2009)\n",
      "6. Patricia \"Pat\" Kennedy Lawford (1924-2006)\n",
      "7. Robert F. Kennedy (1925-1968)\n",
      "8. Jean Kennedy Smith (1928-2020)\n",
      "9. Edward \"Ted\" Kennedy (1932-2009)\n",
      "\n",
      "The Kennedy family is known for their political involvement and public service, with the most notable figures being John F. Kennedy, who served as the 35th President of the United States, and Robert F. Kennedy, who served as Attorney General and was a U.S. Senator."
     ]
    }
   ],
   "source": [
    "for chunk in llmModel.stream(messages):\n",
    "    print(chunk.content, end=\"\", flush=True)"
   ]
  },
  {
   "cell_type": "markdown",
   "id": "acd276b9-494a-47c2-8455-2ff33fc4f221",
   "metadata": {},
   "source": [
    "#### Another old way, similar results:"
   ]
  },
  {
   "cell_type": "code",
   "execution_count": 19,
   "id": "cc436d53-b372-43eb-ac00-ee39c9fa491a",
   "metadata": {},
   "outputs": [
    {
     "data": {
      "text/plain": [
       "AIMessage(content='Joseph P. Kennedy Sr. and his wife Rose Fitzgerald Kennedy had nine children. Here they are in order of birth:\\n\\n1. Joseph P. Kennedy Jr. (1915-1944)\\n2. John F. Kennedy (1917-1963)\\n3. Rosemary Kennedy (1918-2005)\\n4. Kathleen \"Kick\" Kennedy (1920-1948)\\n5. Eunice Kennedy Shriver (1921-2009)\\n6. Patricia \"Pat\" Kennedy Lawford (1924-2006)\\n7. Robert F. Kennedy (1925-1968)\\n8. Jean Kennedy Smith (1928-2020)\\n9. Edward \"Ted\" Kennedy (1932-2009)\\n\\nThe Kennedy family is known for their political involvement and public service, with the most notable figures being John F. Kennedy, who served as the 35th President of the United States, and Robert F. Kennedy, who served as Attorney General and was a U.S. Senator.', additional_kwargs={}, response_metadata={'token_usage': {'prompt_tokens': 24, 'total_tokens': 285, 'completion_tokens': 261}, 'model': 'mistral-large-latest', 'finish_reason': 'stop'}, id='run-1d953da2-24e0-43f7-a7c9-41d10aa836b1-0', usage_metadata={'input_tokens': 24, 'output_tokens': 261, 'total_tokens': 285})"
      ]
     },
     "execution_count": 19,
     "metadata": {},
     "output_type": "execute_result"
    }
   ],
   "source": [
    "response"
   ]
  },
  {
   "cell_type": "code",
   "execution_count": 20,
   "id": "9d0d7c2f-57ed-43f5-b6ed-77c54243c069",
   "metadata": {},
   "outputs": [
    {
     "name": "stdout",
     "output_type": "stream",
     "text": [
      "As of my last update in October 2023, the Prime Minister of India is Narendra Modi. He has been serving in this position since 2014. However, for the most current information, I recommend checking the latest news or official government websites."
     ]
    }
   ],
   "source": [
    "for chunk in llmModel.stream(\n",
    "    \"Who is the prime minister of India today.\"\n",
    "):\n",
    "    print(chunk.content, end=\"\", flush=True)"
   ]
  },
  {
   "cell_type": "code",
   "execution_count": null,
   "id": "4b1030da-415e-4b11-9545-56dc04c93383",
   "metadata": {},
   "outputs": [],
   "source": []
  }
 ],
 "metadata": {
  "kernelspec": {
   "display_name": "poetry-env-mistral",
   "language": "python",
   "name": "poetry-env-mistral"
  },
  "language_info": {
   "codemirror_mode": {
    "name": "ipython",
    "version": 3
   },
   "file_extension": ".py",
   "mimetype": "text/x-python",
   "name": "python",
   "nbconvert_exporter": "python",
   "pygments_lexer": "ipython3",
   "version": "3.11.4"
  }
 },
 "nbformat": 4,
 "nbformat_minor": 5
}
