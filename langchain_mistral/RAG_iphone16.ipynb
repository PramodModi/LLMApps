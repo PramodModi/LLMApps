{
 "cells": [
  {
   "cell_type": "code",
   "execution_count": 1,
   "id": "15c0aa56-8d09-4ad7-8b66-7b3f32c317ae",
   "metadata": {},
   "outputs": [],
   "source": [
    "import os\n",
    "from dotenv import load_dotenv, find_dotenv\n",
    "_ = load_dotenv(find_dotenv())\n",
    "mistral_api_key = os.environ[\"MISTRAL_API_KEY\"]"
   ]
  },
  {
   "cell_type": "code",
   "execution_count": 2,
   "id": "0f508a6a-356a-41e8-8673-1bc7234662fb",
   "metadata": {},
   "outputs": [],
   "source": [
    "from langchain_mistralai import ChatMistralAI\n",
    "\n",
    "chatModel = ChatMistralAI(\n",
    "    mistral_api_key=mistral_api_key,\n",
    "    model=\"mistral-large-latest\",\n",
    "    temperature=0.7,\n",
    "    max_retries=2,\n",
    "    # other params...\n",
    ")"
   ]
  },
  {
   "cell_type": "code",
   "execution_count": 3,
   "id": "4d5ab885-656f-4f82-8bec-cc8d76c90824",
   "metadata": {},
   "outputs": [
    {
     "name": "stderr",
     "output_type": "stream",
     "text": [
      "USER_AGENT environment variable not set, consider setting it to identify your requests.\n"
     ]
    }
   ],
   "source": [
    "import bs4\n",
    "from langchain import hub\n",
    "from langchain_chroma import Chroma\n",
    "from langchain_community.document_loaders import WebBaseLoader\n",
    "from langchain_core.output_parsers import StrOutputParser\n",
    "from langchain_core.runnables import RunnablePassthrough\n",
    "from langchain_text_splitters import RecursiveCharacterTextSplitter\n",
    "from langchain_huggingface import HuggingFaceEmbeddings"
   ]
  },
  {
   "cell_type": "code",
   "execution_count": 4,
   "id": "0fa487f0-a230-40cf-8ee9-e99d6f39b4ff",
   "metadata": {},
   "outputs": [],
   "source": [
    "loader = WebBaseLoader(\n",
    "    web_paths=(\"https://www.gsmarena.com/apple_iphone_16-review-2749.php#\",\n",
    "               \"https://www.wired.com/review/apple-iphone-16-and-iphone-16-plus/\",\n",
    "               \"https://www.gadgets360.com/mobiles/reviews/iphone-16-pro-max-review-6702737\",\n",
    "                \"https://www.stuffindia.in/reviews/apple-iphone-16-review/548\",\n",
    "              \"https://www.gadgets360.com/internet/features/flipkart-big-diwali-sale-2024-iphone-13-14-15-16-plus-pro-max-deals-6855399\",),\n",
    "    bs_kwargs=dict(\n",
    "        parse_only=bs4.SoupStrainer(\n",
    "            class_=(\"review-body clearfix\", \"article-blurb article-blurb-findings\", \"body__inner-container\", \"sdesc\", \n",
    "                    \"fullstoryCtrl_fulldetails\", \"post-item-layout\", \"content_text row description\")\n",
    "        )\n",
    "    ),\n",
    ")"
   ]
  },
  {
   "cell_type": "code",
   "execution_count": 5,
   "id": "fbaceffa-bd59-4858-8b17-dbb4df6cea88",
   "metadata": {},
   "outputs": [],
   "source": [
    "docs = loader.load()"
   ]
  },
  {
   "cell_type": "code",
   "execution_count": 6,
   "id": "73a90122-8647-4d0e-acf3-7199a94b9b10",
   "metadata": {},
   "outputs": [],
   "source": [
    "text_splitter = RecursiveCharacterTextSplitter(chunk_size=1000, chunk_overlap=500)"
   ]
  },
  {
   "cell_type": "code",
   "execution_count": 7,
   "id": "d9b0a9c4-95ee-4736-9a76-b48cb90c1a5c",
   "metadata": {},
   "outputs": [],
   "source": [
    "splits = text_splitter.split_documents(docs)"
   ]
  },
  {
   "cell_type": "code",
   "execution_count": 8,
   "id": "5b3e5096-3c9d-45b0-8fff-82ad577c3b4c",
   "metadata": {},
   "outputs": [
    {
     "name": "stderr",
     "output_type": "stream",
     "text": [
      "/Users/pramodmodi/Library/Caches/pypoetry/virtualenvs/langchain-mistral-xuCIEomg-py3.11/lib/python3.11/site-packages/sentence_transformers/cross_encoder/CrossEncoder.py:13: TqdmWarning: IProgress not found. Please update jupyter and ipywidgets. See https://ipywidgets.readthedocs.io/en/stable/user_install.html\n",
      "  from tqdm.autonotebook import tqdm, trange\n"
     ]
    }
   ],
   "source": [
    "vectorstore = Chroma.from_documents(documents=splits, embedding=HuggingFaceEmbeddings(model_name=\"all-MiniLM-L6-v2\"))"
   ]
  },
  {
   "cell_type": "code",
   "execution_count": 9,
   "id": "2d55df81-acac-4eae-8515-9346eaf2ac9f",
   "metadata": {},
   "outputs": [],
   "source": [
    "retriever = vectorstore.as_retriever(search_kwargs={\"k\": 5})\n",
    "\n",
    "#prompt = hub.pull(\"rlm/rag-prompt\")"
   ]
  },
  {
   "cell_type": "code",
   "execution_count": 10,
   "id": "6d550844-cf81-44e9-875a-047f24afa482",
   "metadata": {},
   "outputs": [],
   "source": [
    "from langchain_core.prompts import ChatPromptTemplate\n",
    "template = \"\"\"Answer the question based only on the following context:\n",
    "\n",
    "{context}\n",
    "\n",
    "Question: {question}\n",
    "\"\"\"\n",
    "prompt = ChatPromptTemplate.from_template(template)"
   ]
  },
  {
   "cell_type": "code",
   "execution_count": 11,
   "id": "55c2ad79-8875-48d2-960e-3493a2d6b033",
   "metadata": {},
   "outputs": [],
   "source": [
    "def format_docs(docs):\n",
    "    return \"\\n\\n\".join(doc.page_content for doc in docs)"
   ]
  },
  {
   "cell_type": "code",
   "execution_count": 12,
   "id": "cfb9f294-eee4-4670-a734-f1ae05cb00b4",
   "metadata": {},
   "outputs": [],
   "source": [
    "rag_chain = (\n",
    "    {\"context\": retriever | format_docs, \"question\": RunnablePassthrough()}\n",
    "    | prompt\n",
    "    | chatModel\n",
    "    | StrOutputParser()\n",
    ")"
   ]
  },
  {
   "cell_type": "code",
   "execution_count": 13,
   "id": "217016a8-5d72-4e5e-bfa8-2b595e9f3bd6",
   "metadata": {},
   "outputs": [
    {
     "name": "stderr",
     "output_type": "stream",
     "text": [
      "huggingface/tokenizers: The current process just got forked, after parallelism has already been used. Disabling parallelism to avoid deadlocks...\n",
      "To disable this warning, you can either:\n",
      "\t- Avoid using `tokenizers` before the fork if possible\n",
      "\t- Explicitly set the environment variable TOKENIZERS_PARALLELISM=(true | false)\n"
     ]
    },
    {
     "name": "stdout",
     "output_type": "stream",
     "text": [
      "Based on the provided context, the new features in the iPhone 16 compared to the iPhone 15 are:\n",
      "\n",
      "1. **Camera Improvements:**\n",
      "   - 48MP primary camera with sensor-shift stabilization and Fusion capability for improved 2x in-sensor zoom.\n",
      "   - Upgraded ultrawide camera with a brighter aperture lens and autofocus for macro photos.\n",
      "   - New Tone setting for fine-tuning the camera's tonal processing.\n",
      "\n",
      "2. **Wireless Charging:**\n",
      "   - Next-generation MagSafe and Qi2 support for up to 25W wireless charging with a new MagSafe charger and a 30W+ power adapter.\n",
      "\n",
      "3. **New Buttons:**\n",
      "   - Action button and Camera Control button.\n",
      "\n",
      "4. **Performance:**\n",
      "   - Apple A18 chip with a 5-core GPU capable of Ray Tracing and improved gaming and video rendering performance (40% increase over the iPhone 15).\n",
      "\n",
      "5. **Software:**\n",
      "   - Runs on iOS 18 and supports Apple Intelligence (though it has yet to be released).\n",
      "\n",
      "6. **Design:**\n",
      "   - More buttons than any other current smartphone, contrary to rumors of a portless or buttonless design."
     ]
    }
   ],
   "source": [
    "query= \"What are new feature in iphone16 in comparision to iphone15?\"\n",
    "for chunk in rag_chain.stream(query):\n",
    "    print(chunk, end=\"\", flush=True)"
   ]
  },
  {
   "cell_type": "code",
   "execution_count": 123,
   "id": "350b4e47-e4c6-4343-a95b-8d94776af928",
   "metadata": {},
   "outputs": [
    {
     "name": "stdout",
     "output_type": "stream",
     "text": [
      "Based on the provided context, here are the best deals for the mentioned iPhones in a tabular format:\n",
      "\n",
      "| iPhone Model | Original Price (Rs.) | Sale Price (Rs.) | Additional Benefits |\n",
      "|---|---|---|---|\n",
      "| iPhone 16 Pro Max (256GB) | 1,44,900 | 1,30,410 | 10% instant discount for SBI card and Mastercard holders, 5% cashback for Flipkart Axis Bank Credit Card users, exchange offers |\n",
      "| iPhone 16 Pro | Not explicitly mentioned | Not explicitly mentioned | 10% instant discount for SBI card and Mastercard holders, 5% cashback for Flipkart Axis Bank Credit Card users, exchange offers |\n",
      "| iPhone 15 | Not explicitly mentioned | Not explicitly mentioned | 10% instant discount for SBI card and Mastercard holders, 5% cashback for Flipkart Axis Bank Credit Card users, exchange offers |\n",
      "| iPhone 15 Pro Max | Not explicitly mentioned | Not explicitly mentioned | 10% instant discount for SBI card and Mastercard holders, 5% cashback for Flipkart Axis Bank Credit Card users, exchange offers |\n",
      "\n",
      "Note:\n",
      "- The sale prices listed are inclusive of additional benefits like coupon discounts, exchange offers, and bank offers.\n",
      "- The context does not provide explicit original prices or sale prices for the iPhone 16 Pro, iPhone 15, and iPhone 15 Pro Max. However, additional benefits are applicable to these models as well.\n",
      "- The sale is occurring on Flipkart, and the prices may vary depending on the specific model and storage capacity."
     ]
    }
   ],
   "source": [
    "query= \"Best deals for iphone 16 pro max, iphone 16 pro, iphone 15, iphone 15 pro max. Give result in tabular format\"\n",
    "for chunk in rag_chain.stream(query):\n",
    "    print(chunk, end=\"\", flush=True)"
   ]
  },
  {
   "cell_type": "code",
   "execution_count": 14,
   "id": "de91a43f-e528-4799-8725-666a765c2020",
   "metadata": {},
   "outputs": [
    {
     "name": "stdout",
     "output_type": "stream",
     "text": [
      "Based on the provided context, you should consider purchasing the iPhone 16 for the following reasons:\n",
      "\n",
      "1. **Great performance**: It has a new, more powerful processor and much more advanced graphics with the Apple A18 chip. It's excellent for gaming and general performance.\n",
      "2. **Improved cameras**: The iPhone 16 comes with camera improvements, although it doesn't have the third telephoto camera like the Pro models.\n",
      "3. **Stunning display**: It has a 6.1-inch Super Retina XDR OLED display with high brightness, HDR10, and Dolby Vision.\n",
      "4. **Sturdiness**: The iPhone 16 is a pioneer in sturdiness thanks to an improved Ceramic Shield glass and has an IP68 rating for up to 6m water submersion.\n",
      "5. **Battery life**: Although the context mentions average battery life, it also states that the iPhone 16 Plus has \"bonkers\" battery life, suggesting that the iPhone 16 also has decent battery performance.\n",
      "\n",
      "The price of the iPhone 16, based on the provided context, is:\n",
      "\n",
      "- 128GB 8GB RAM: ₹79,900 or $829.99\n",
      "- 256GB 8GB RAM: $929.99 or €988.00\n",
      "- 512GB 8GB RAM: ₹109,900 or $1,129.99"
     ]
    }
   ],
   "source": [
    "query= \"Whay should I purchase iphone16? and what is the price\"\n",
    "for chunk in rag_chain.stream(query):\n",
    "    print(chunk, end=\"\", flush=True)"
   ]
  },
  {
   "cell_type": "code",
   "execution_count": 15,
   "id": "efa81b65-73bc-4754-a5fc-e90e9064fe10",
   "metadata": {},
   "outputs": [
    {
     "name": "stdout",
     "output_type": "stream",
     "text": [
      "Based on the provided context, here are more details about the battery, camera, charging, wireless file transfer, and performance of the iPhone 16:\n",
      "\n",
      "**Battery:**\n",
      "- The iPhone 16 offers around six hours of screen-on time with about 20% remaining after a day of mixed usage (including social media, photography, navigation, and music streaming).\n",
      "- The battery is easier to replace on the iPhone 16 and 16 Plus, with iFixit giving it a 7/10 in overall repairability.\n",
      "- The device is expected to last a full day and then some on a single charge.\n",
      "\n",
      "**Camera:**\n",
      "- The iPhone 16 features a dual-camera system on the back:\n",
      "  - A 48MP primary camera with sensor-shift stabilization and Fusion capability, allowing for improved 2x in-sensor zoom (better than the iPhone 15).\n",
      "  - An upgraded ultrawide camera with a brighter aperture lens and autofocus for macro photos.\n",
      "- It also introduces a new Tone setting to fine-tune the camera's tonal processing to match the user's taste.\n",
      "- The camera has been moved to a vertical design to support shooting Spatial videos for the Apple Vision Pro.\n",
      "\n",
      "**Charging:**\n",
      "- The iPhone 16 supports up to 30W charging with compatible chargers and up to 20W with MagSafe (though charging speeds may vary).\n",
      "- It features next-generation MagSafe and Qi2 support for up to 25W wireless charging with the new MagSafe charger and a 30W+ power adapter.\n",
      "- Apple prioritizes battery longevity over charging speed by controlling wattage and heat.\n",
      "\n",
      "**Wireless File Transfer:**\n",
      "- The iPhone 16 includes WiFi 7 for faster network speeds.\n",
      "- However, the USB-C port offers relatively slow transfer speeds with cable connection (up to 480 megabits per second), similar to the iPhone 15. The Pro models, on the other hand, support USB3 speeds of up to 20 gigabits per second.\n",
      "\n",
      "**Performance:**\n",
      "- The iPhone 16 runs on iOS 18 and features Apple's latest processor (presumably the A18, as mentioned for the iPhone 16 Plus).\n",
      "- It offers great improvements in CPU performance and top-tier gaming capabilities.\n",
      "- The device provides a stress-free smartphone experience with the most optimized app support from third parties.\n",
      "- However, it still offers a 60Hz refresh rate and misses out on an always-on display (AOD), and it does not include Apple Intelligence features out of the box."
     ]
    }
   ],
   "source": [
    "query= \"Give me more details about battery, cammera, charging, wireless file transfer and performance of Iphone 16 ?\"\n",
    "for chunk in rag_chain.stream(query):\n",
    "    print(chunk, end=\"\", flush=True)"
   ]
  },
  {
   "cell_type": "code",
   "execution_count": 16,
   "id": "bb8768e8-f219-4d53-85df-ea561e1b5c18",
   "metadata": {},
   "outputs": [
    {
     "name": "stdout",
     "output_type": "stream",
     "text": [
      "Based on the provided context, here are the specifications of the iPhone 16:\n",
      "\n",
      "- **Battery:**\n",
      "  - Capacity: 3561mAh\n",
      "  - Wired charging: PD2.0, 50% in 30 min (advertised)\n",
      "  - Wireless charging: 25W (MagSafe), 15W (China only), 15W (Qi2)\n",
      "  - Reverse wired charging: 4.5W\n",
      "\n",
      "- **Connectivity:**\n",
      "  - 5G, eSIM, Dual SIM, Wi-Fi 7, Bluetooth 5.3, NFC\n",
      "\n",
      "- **Other Features:**\n",
      "  - Face ID, accelerometer, gyro, proximity, compass, barometer\n",
      "  - Stereo speakers\n",
      "  - Ultra Wideband (UWB) support (gen2 chip)\n",
      "  - Emergency SOS, Messages and Find My via satellite\n",
      "\n",
      "- **Display:**\n",
      "  - 60Hz screen refresh rate\n",
      "\n",
      "- **Camera:**\n",
      "  - Dual camera: 48MP primary (with sensor-shift stabilization and Fusion capability), upgraded ultrawide camera (brighter aperture lens and autofocus)\n",
      "  - New Tone setting for camera tonal processing\n",
      "\n",
      "- **Software:**\n",
      "  - iOS 18 with support for Apple Intelligence\n",
      "\n",
      "- **Charging:**\n",
      "  - Next-generation MagSafe and Qi2 support for up to 25W wireless charging\n",
      "\n",
      "- **In the Box:**\n",
      "  - Braided USB-C cable, SIM ejection tool"
     ]
    }
   ],
   "source": [
    "query= \"WHat are specification of Iphone 16 ?\"\n",
    "for chunk in rag_chain.stream(query):\n",
    "    print(chunk, end=\"\", flush=True)"
   ]
  },
  {
   "cell_type": "code",
   "execution_count": 17,
   "id": "b97852aa-bce6-4763-be69-729e669c69cf",
   "metadata": {},
   "outputs": [
    {
     "name": "stdout",
     "output_type": "stream",
     "text": [
      "Based on the provided context, here are the specifications of the iPhone 16 Pro Max:\n",
      "\n",
      "- **Display**: 6.90-inch with a resolution of 1320x2868 pixels at 460ppi pixel density, 2000 nits peak brightness\n",
      "- **Processor**: Apple A18 Pro (six-core CPU with six-core GPU and 16-core Neural Engine)\n",
      "- **Front Camera**: 12-megapixel\n",
      "- **Rear Camera**: 48-megapixel + 12-megapixel + 48-megapixel\n",
      "- **RAM**: 8GB\n",
      "- **Storage**: 256GB, 512GB, 1TB\n",
      "- **OS**: iOS 18\n",
      "- **Battery Life**: Not explicitly stated, but mentioned as \"fantastic\"\n",
      "- **Other Features**:\n",
      "  - Massive screen size\n",
      "  - Brilliant display\n",
      "  - Performance beast\n",
      "  - Camera Control is a boon\n",
      "  - Expensive\n",
      "  - No Apple Intelligence at launch\n",
      "  - Slow-wired charging support"
     ]
    }
   ],
   "source": [
    "query= \"WHat are specification of Iphone 16 pro max?\"\n",
    "for chunk in rag_chain.stream(query):\n",
    "    print(chunk, end=\"\", flush=True)"
   ]
  },
  {
   "cell_type": "code",
   "execution_count": 109,
   "id": "a03aab71-b540-4bd4-8bd3-336010252b69",
   "metadata": {},
   "outputs": [
    {
     "name": "stdout",
     "output_type": "stream",
     "text": [
      "The iPhone 16 series includes two notable buttons: the Camera Control and the Action Button.\n",
      "\n",
      "1. **Camera Control**: This is a dedicated camera control button available on all iPhone 16 models. It supports various touch inputs such as soft and hard presses, as well as swipe gestures to control different camera functions. It also supports acceleration, allowing for quick scrolling based on the speed of the swipe gesture.\n",
      "\n",
      "2. **Action Button**: This button comes from the Pro models of the previous year and replaces the Alert Slider on the top left. It can be customized as a macro key to launch any desired function or app.\n",
      "\n",
      "In total, the iPhone 16 series has six buttons, with the iPhone 16 Pro Max specifically having the power and volume rockers alongside the Camera Control and Action buttons, making four physical buttons overall."
     ]
    }
   ],
   "source": [
    "query= \"What about camera control button and action button of Iphone 16?\"\n",
    "for chunk in rag_chain.stream(query):\n",
    "    print(chunk, end=\"\", flush=True)"
   ]
  },
  {
   "cell_type": "code",
   "execution_count": 110,
   "id": "c6f6ff73-c85d-45b2-9b9c-e86e2c40a0a5",
   "metadata": {},
   "outputs": [
    {
     "name": "stdout",
     "output_type": "stream",
     "text": [
      "Based on the provided context, here are the key differences between the iPhone 16 and iPhone 16 Pro Max:\n",
      "\n",
      "1. **Display**:\n",
      "   - iPhone 16 Pro Max: Has a 120Hz refresh rate display.\n",
      "   - iPhone 16: Does not have a 120Hz refresh rate display.\n",
      "\n",
      "2. **Camera**:\n",
      "   - iPhone 16 Pro Max: Has a third telephoto camera.\n",
      "   - iPhone 16: Does not have a third telephoto camera.\n",
      "\n",
      "3. **Size**:\n",
      "   - iPhone 16 Pro Max: Is not a small phone, with the biggest display on an iPhone yet.\n",
      "   - iPhone 16: No information is provided about its size, but it's assumed to be smaller than the Pro Max.\n",
      "\n",
      "4. **Price**:\n",
      "   - iPhone 16 Pro Max: More expensive, likely over Rs. 1 lakh.\n",
      "   - iPhone 16: Less expensive, under Rs. 1 lakh.\n",
      "\n",
      "5. **Battery and Charging**:\n",
      "   - iPhone 16 Pro Max: Excellent battery performance but slower wired charging (full charge takes about 100-120 minutes with a 20W adapter).\n",
      "   - iPhone 16: No specific information provided about battery performance or charging speed.\n",
      "\n",
      "The context suggests that if you prefer a larger phone with a better display, improved camera, and excellent battery performance, and budget is not a concern, the iPhone 16 Pro Max is the way to go. If you prefer a more affordable option and are willing to compromise on some features, consider the iPhone 16."
     ]
    }
   ],
   "source": [
    "query= \"Iphone 16 vs Iphone 16 pro max?\"\n",
    "for chunk in rag_chain.stream(query):\n",
    "    print(chunk, end=\"\", flush=True)"
   ]
  },
  {
   "cell_type": "code",
   "execution_count": 124,
   "id": "23c135d3-d1b3-46cc-8835-601244c1fdb5",
   "metadata": {},
   "outputs": [
    {
     "name": "stdout",
     "output_type": "stream",
     "text": [
      "The context provided does not contain information about the Prime Minister of India. Therefore, I cannot answer the question based on the given context."
     ]
    }
   ],
   "source": [
    "query= \"Who is the prime minister of india today?\"\n",
    "for chunk in rag_chain.stream(query):\n",
    "    print(chunk, end=\"\", flush=True)"
   ]
  },
  {
   "cell_type": "code",
   "execution_count": null,
   "id": "da416309-6f1c-4837-9114-5447f5e4c2b0",
   "metadata": {},
   "outputs": [],
   "source": []
  }
 ],
 "metadata": {
  "kernelspec": {
   "display_name": "poetry-env-mistral",
   "language": "python",
   "name": "poetry-env-mistral"
  },
  "language_info": {
   "codemirror_mode": {
    "name": "ipython",
    "version": 3
   },
   "file_extension": ".py",
   "mimetype": "text/x-python",
   "name": "python",
   "nbconvert_exporter": "python",
   "pygments_lexer": "ipython3",
   "version": "3.11.4"
  }
 },
 "nbformat": 4,
 "nbformat_minor": 5
}
