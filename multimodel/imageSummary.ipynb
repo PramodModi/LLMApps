{
 "cells": [
  {
   "cell_type": "code",
   "execution_count": 1,
   "id": "ee54132c-2c5b-4aae-bd99-e4b69f8b610c",
   "metadata": {},
   "outputs": [],
   "source": [
    "import os\n",
    "from dotenv import load_dotenv, find_dotenv\n",
    "_ = load_dotenv(find_dotenv())\n",
    "mistral_api_key = os.environ[\"MISTRAL_API_KEY\"]"
   ]
  },
  {
   "cell_type": "code",
   "execution_count": 331,
   "id": "ac3d4fcb-adf0-4943-b0b3-c3b7c79ba383",
   "metadata": {},
   "outputs": [],
   "source": [
    "from langchain_mistralai import ChatMistralAI\n",
    "\n",
    "llm = ChatMistralAI(\n",
    "    mistral_api_key=mistral_api_key,\n",
    "   # model=\"mistral-large-latest\",\n",
    "    model=\"pixtral-12b-2409\",\n",
    "    temperature=0,\n",
    "    max_retries=2,\n",
    "    max_tokens = 1024\n",
    "    # other params...\n",
    ")"
   ]
  },
  {
   "cell_type": "code",
   "execution_count": 333,
   "id": "b4d18c84-0f9b-49c9-8084-739f950db09f",
   "metadata": {},
   "outputs": [],
   "source": [
    "from PIL import Image\n",
    "def reduceImageSize(imageFile):\n",
    "    file_path = \"./data/temp.jpg\"\n",
    "    img = Image.open(imageFile)\n",
    "    img.thumbnail((512, 512))  # Adjust the size as needed\n",
    "    img.save(file_path)\n",
    "    return file_path"
   ]
  },
  {
   "cell_type": "code",
   "execution_count": 349,
   "id": "8256320a-bbcb-4e03-befc-2bb7ce06f968",
   "metadata": {},
   "outputs": [],
   "source": [
    "import base64\n",
    "import os\n",
    "\n",
    "def encode_image(image_path):\n",
    "    \"\"\"Getting the base64 string\"\"\"\n",
    "    file_path = reduceImageSize(image_path)\n",
    "    with open(file_path, \"rb\") as image_file:\n",
    "        return base64.b64encode(image_file.read()).decode(\"utf-8\")\n",
    "        #return base64.b64encode(img).decode(\"utf-8\")\n"
   ]
  },
  {
   "cell_type": "code",
   "execution_count": null,
   "id": "364cb3b1-af0e-41ec-802e-1cd79dc3ee66",
   "metadata": {},
   "outputs": [],
   "source": []
  },
  {
   "cell_type": "code",
   "execution_count": 352,
   "id": "8eea7ece-ad84-46f7-9a9b-c141aa1651e3",
   "metadata": {},
   "outputs": [],
   "source": [
    "from langchain_core.messages import HumanMessage\n",
    "\n",
    "def image_summarize(img_base64, prompt):\n",
    "    \"\"\"Make image summary\"\"\"\n",
    "\n",
    "    msg = llm.invoke(\n",
    "        [\n",
    "            HumanMessage(\n",
    "                content=[\n",
    "                    {\"type\": \"text\", \"text\": prompt},\n",
    "                    {\n",
    "                        \"type\": \"image_url\",\n",
    "                        \"image_url\": {\"url\": f\"data:image/jpeg;base64,{img_base64}\"},\n",
    "                    },\n",
    "                ]\n",
    "            )\n",
    "        ]\n",
    "    )\n",
    "    return msg.content"
   ]
  },
  {
   "cell_type": "code",
   "execution_count": 356,
   "id": "07777180-496b-4797-96cd-dc2edaa57fe4",
   "metadata": {},
   "outputs": [],
   "source": [
    "from langchain_core.prompts import ChatPromptTemplate\n",
    "template = \"\"\"You are an expert to read the image and summerize it. While summarization, read all details including texts in it.\n",
    "Give a concise summary of the image and also explain the summary of it. Summary of image should give the details of purpose of image \n",
    "as well as about the image. Reply the query if there is any\n",
    "{query}\n",
    "\"\"\""
   ]
  },
  {
   "cell_type": "code",
   "execution_count": 347,
   "id": "e5cb1770-1f57-4285-b49d-d7eaf82bfe60",
   "metadata": {},
   "outputs": [
    {
     "data": {
      "text/plain": [
       "'The image is a screenshot of a grocery delivery app interface. It displays a variety of fruits and vegetables available for purchase, along with their prices in Indian Rupees (INR). The interface includes categories such as \"All vegetables,\" \"All fruits,\" and \"Leafy greens.\" There is also an option to search for specific items and a section for freshly cut and sprouted items. The app offers delivery options and shows the delivery fee.\\n\\nHere is the price list of the items in the image in Indian Rupees (INR):\\n\\n| Item Name                      | Price (INR) |\\n|--------------------------------|-------------|\\n| Fresh Apple Red Delicious      | 197         |\\n| Fresh Dragon Fruit White       | 50          |\\n| Fresh Apple Red Delicious      | 97          |\\n| Freshly Cut Cauliflower        | 117         |\\n| Freshly Cut Carrots            | 45          |\\n| Freshly Cut Beetroot           | 50          |\\n\\nThese prices are for specific quantities and qualities of the items as mentioned in the app. The app also offers a free delivery option if the order is above a certain amount.'"
      ]
     },
     "execution_count": 347,
     "metadata": {},
     "output_type": "execute_result"
    }
   ],
   "source": [
    "base64_image = encode_image(\"./data/amazon.jpeg\")\n",
    "query = \"Let me know the price of each items in Indian rupees in tabular format\"\n",
    "prompt = template.format(query=query)\n",
    "result = image_summarize(base64_image, prompt)\n",
    "result"
   ]
  },
  {
   "cell_type": "code",
   "execution_count": 360,
   "id": "aa38cfcc-defc-42da-8e63-e6352fc7788c",
   "metadata": {},
   "outputs": [
    {
     "data": {
      "text/plain": [
       "'The image depicts a flowchart outlining a process for improving a language model using Reinforcement Learning from Human Feedback (RLHF). Here is a detailed summary of the image:\\n\\n### Summary:\\nThe flowchart illustrates a cyclical process aimed at refining a language model through iterative feedback and training. The process begins with an initial language model, referred to as the \"Initial RLHF Model.\" This model generates responses to prompts, which are then evaluated by human feedback to determine their helpfulness, harmlessness, and other criteria. This feedback is used to fine-tune the model, creating a \"Finetuned Initial Model.\"\\n\\nThe finetuned model is then subjected to further evaluation and training. Responses generated by the finetuned model are compared to those from a \"Finetuned Performance Model,\" which is presumably a more advanced version of the initial model. This comparison involves a process called \"Constitutional AI Feedback for Self-Improvement,\" where the model\\'s responses are assessed against a set of constitutional guidelines.\\n\\nBased on this feedback, the model undergoes further training, integrating the feedback to improve its performance. This results in a \"Finetuned RLHF Model with PPO and CAI Models,\" which is then evaluated again to ensure it meets the desired standards. The final output is a \"Final RLHF Model,\" which is expected to have improved significantly through this iterative process.\\n\\n### Explanation:\\nThe purpose of the image is to illustrate the iterative and feedback-driven approach to enhancing a language model\\'s performance. The process involves:\\n1. **Initial Model Generation**: Starting with a basic language model.\\n2. **Response Generation and Evaluation**: The model generates responses to prompts, which are evaluated for helpfulness and harmlessness.\\n3. **Finetuning**: The model is adjusted based on human feedback.\\n4. **Performance Comparison**: The finetuned model\\'s responses are compared to those of a more advanced model.\\n5. **Self-Improvement Feedback**: The model uses constitutional AI feedback to further refine its responses.\\n6. **Iterative Training**: The model undergoes additional training to incorporate the feedback.\\n7. **Final Evaluation**: The final model is evaluated to ensure it meets the desired criteria.\\n\\nThis cyclical process aims to continuously improve the language model by leveraging human and AI feedback, ensuring that the model\\'s responses are both helpful and harmless.'"
      ]
     },
     "execution_count": 360,
     "metadata": {},
     "output_type": "execute_result"
    }
   ],
   "source": [
    "base64_image = encode_image(\"./data/figure-2-1.jpg\")\n",
    "query = \"\"\n",
    "prompt = template.format(query=query)\n",
    "result = image_summarize(base64_image, prompt)\n",
    "result"
   ]
  },
  {
   "cell_type": "code",
   "execution_count": null,
   "id": "7cfb636f-68ec-46de-bedb-cfe40211cfc4",
   "metadata": {},
   "outputs": [],
   "source": []
  }
 ],
 "metadata": {
  "kernelspec": {
   "display_name": "poetry-env-multimodal",
   "language": "python",
   "name": "poetry-env-multimodal"
  },
  "language_info": {
   "codemirror_mode": {
    "name": "ipython",
    "version": 3
   },
   "file_extension": ".py",
   "mimetype": "text/x-python",
   "name": "python",
   "nbconvert_exporter": "python",
   "pygments_lexer": "ipython3",
   "version": "3.12.7"
  }
 },
 "nbformat": 4,
 "nbformat_minor": 5
}
